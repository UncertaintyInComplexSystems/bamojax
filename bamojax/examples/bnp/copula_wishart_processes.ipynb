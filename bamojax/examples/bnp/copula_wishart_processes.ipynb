{
 "cells": [
  {
   "cell_type": "markdown",
   "metadata": {},
   "source": [
    "# Copula Wishart processes\n",
    "\n",
    "Wishart processes are used to model input-dependent covariance matrices. They can naturally be combined with multivariate Gaussian observations, as the Wishart process then simply provides the covariance matrix for the Gaussian at every input point. However, the situation becomes less straightforward when the observations are not Gaussian, or not even continuous. Here, we explore copula models that allow us to separate the multivariate correlation structure from the desired marginal distributions."
   ]
  },
  {
   "cell_type": "code",
   "execution_count": 11,
   "metadata": {},
   "outputs": [
    {
     "name": "stdout",
     "output_type": "stream",
     "text": [
      "The autoreload extension is already loaded. To reload it, use:\n",
      "  %reload_ext autoreload\n",
      "Setting CUDA visible devices to [1]\n"
     ]
    }
   ],
   "source": [
    "%load_ext autoreload\n",
    "%autoreload 2\n",
    "\n",
    "import os\n",
    "\n",
    "SELECTED_DEVICE = '1'\n",
    "print(f'Setting CUDA visible devices to [{SELECTED_DEVICE}]')\n",
    "os.environ['CUDA_VISIBLE_DEVICES'] = f'{SELECTED_DEVICE}'"
   ]
  },
  {
   "cell_type": "code",
   "execution_count": 12,
   "metadata": {},
   "outputs": [
    {
     "name": "stdout",
     "output_type": "stream",
     "text": [
      "Python version:        3.10.15 (main, Oct  3 2024, 07:27:34) [GCC 11.2.0]\n",
      "Jax version:           0.4.35\n",
      "BlackJax version:      1.2.4\n",
      "Distrax version:       0.1.5\n",
      "Jax default backend:   gpu\n",
      "Jax devices:           [CudaDevice(id=0)]\n"
     ]
    }
   ],
   "source": [
    "import matplotlib.pyplot as plt\n",
    "\n",
    "import jax\n",
    "jax.config.update(\"jax_enable_x64\", True)\n",
    "\n",
    "import jax.random as jrnd\n",
    "import jax.numpy as jnp\n",
    "import distrax as dx\n",
    "import blackjax\n",
    "\n",
    "from tensorflow_probability.substrates import jax as tfp\n",
    "tfd = tfp.distributions\n",
    "tfb = tfp.bijectors\n",
    "\n",
    "import os\n",
    "import sys\n",
    "\n",
    "from blackjax import normal_random_walk\n",
    "from blackjax.diagnostics import potential_scale_reduction, effective_sample_size\n",
    "\n",
    "from jaxtyping import Array\n",
    "\n",
    "sys.path.append(os.path.abspath(os.path.join(os.getcwd(), '../../../')))\n",
    "\n",
    "from bamojax.base import Node, Model\n",
    "from bamojax.sampling import gibbs_sampler, smc_inference_loop, elliptical_slice_nd, inference_loop\n",
    "\n",
    "from bamojax.more_distributions import GaussianProcessFactory, RBF, Zero, Wishart\n",
    "\n",
    "print('Python version:       ', sys.version)\n",
    "print('Jax version:          ', jax.__version__)\n",
    "print('BlackJax version:     ', blackjax.__version__)\n",
    "print('Distrax version:      ', dx.__version__)\n",
    "print('Jax default backend:  ', jax.default_backend())\n",
    "print('Jax devices:          ', jax.devices())"
   ]
  },
  {
   "cell_type": "markdown",
   "metadata": {},
   "source": [
    "## Copulas\n",
    "\n",
    "But first, estimate a covariance matrix:"
   ]
  },
  {
   "cell_type": "code",
   "execution_count": null,
   "metadata": {},
   "outputs": [],
   "source": [
    "def vec2tril(v):\n",
    "    L_sample = jnp.zeros((p, p))\n",
    "    return L_sample.at[jnp.tril_indices(p, 0)].set(v)\n",
    "\n",
    "#\n",
    "\n",
    "def posdef_sigma(loc, L_vec):\n",
    "    L = vec2tril(L_vec)\n",
    "    return dict(loc=loc, covariance_matrix=jnp.dot(L, L.T))\n",
    "\n",
    "#\n",
    "cov = jnp.array([[1.0, 0.2], [0.2, 1.0]])\n",
    "p = cov.shape[0]\n",
    "nu = p + 1\n",
    "n = 1000\n",
    "m = int(p*(p+1)/2)\n",
    "\n",
    "key = jrnd.PRNGKey(42)\n",
    "key, subkey = jrnd.split(key)\n",
    "\n",
    "Y = jrnd.multivariate_normal(subkey, mean=jnp.zeros(p), cov=cov, shape=(n, ))\n",
    "\n",
    "copula_model = Model('Copulas')\n",
    "L_node = copula_model.add_node(name='L_vec', distribution=dx.Normal(loc=jnp.zeros(m), scale=jnp.ones(m)))\n",
    "Y_node = copula_model.add_node(name='Y', distribution=dx.MultivariateNormalFullCovariance, parents=dict(loc=jnp.zeros(p), L_vec=L_node), observations=Y, link_fn=posdef_sigma)"
   ]
  },
  {
   "cell_type": "markdown",
   "metadata": {},
   "source": [
    "**Note**: Naive proposals do not impose a positive definiteness constraint on $\\Sigma$ - we should instead sample $L$ in $\\Sigma=LL^\\top$."
   ]
  },
  {
   "cell_type": "code",
   "execution_count": 14,
   "metadata": {},
   "outputs": [
    {
     "name": "stdout",
     "output_type": "stream",
     "text": [
      "Acceptance rate: 0.359\n",
      "CPU times: user 14.3 s, sys: 1.47 s, total: 15.7 s\n",
      "Wall time: 17 s\n"
     ]
    }
   ],
   "source": [
    "%%time\n",
    "\n",
    "logdensity_fn = lambda state: copula_model.loglikelihood_fn()(state) + copula_model.logprior_fn()(state)\n",
    "rmh = normal_random_walk(logdensity_fn, sigma=0.03*jnp.eye(m))\n",
    "\n",
    "num_samples = 50_000\n",
    "num_burn = 50_000\n",
    "num_thin = 1\n",
    "num_chains = 1\n",
    "\n",
    "rmh_states, rmh_info = inference_loop(key, model=copula_model, kernel=rmh, num_samples=num_samples, num_burn=num_burn, num_chains=num_chains, num_thin=num_thin)\n",
    "\n",
    "print(f'Acceptance rate: {jnp.mean(1.0*rmh_info.is_accepted):0.3f}')"
   ]
  },
  {
   "cell_type": "code",
   "execution_count": 15,
   "metadata": {},
   "outputs": [
    {
     "data": {
      "text/plain": [
       "Array([[0.99330278, 0.21618209],\n",
       "       [0.21618209, 0.97584776]], dtype=float64)"
      ]
     },
     "execution_count": 15,
     "metadata": {},
     "output_type": "execute_result"
    }
   ],
   "source": [
    "mvn_params = jax.vmap(posdef_sigma, in_axes=(None, 0))(jnp.zeros(p), rmh_states.position['L_vec'])\n",
    "\n",
    "jnp.mean(mvn_params['covariance_matrix'], axis=0)"
   ]
  },
  {
   "cell_type": "code",
   "execution_count": 26,
   "metadata": {},
   "outputs": [
    {
     "ename": "TypeError",
     "evalue": "additive_step_random_walk.<locals>.step_fn() takes 2 positional arguments but 3 were given",
     "output_type": "error",
     "traceback": [
      "\u001b[0;31m---------------------------------------------------------------------------\u001b[0m",
      "\u001b[0;31mTypeError\u001b[0m                                 Traceback (most recent call last)",
      "Cell \u001b[0;32mIn[26], line 8\u001b[0m\n\u001b[1;32m      4\u001b[0m num_mcmc_steps \u001b[38;5;241m=\u001b[39m \u001b[38;5;241m100\u001b[39m\n\u001b[1;32m      6\u001b[0m key, subkey \u001b[38;5;241m=\u001b[39m jrnd\u001b[38;5;241m.\u001b[39msplit(key)\n\u001b[0;32m----> 8\u001b[0m final_state, lml, n_iter, final_info \u001b[38;5;241m=\u001b[39m \u001b[43msmc_inference_loop\u001b[49m\u001b[43m(\u001b[49m\u001b[43msubkey\u001b[49m\u001b[43m,\u001b[49m\u001b[43m \u001b[49m\u001b[43mmodel\u001b[49m\u001b[38;5;241;43m=\u001b[39;49m\u001b[43mcopula_model\u001b[49m\u001b[43m,\u001b[49m\u001b[43m \u001b[49m\u001b[43mkernel\u001b[49m\u001b[38;5;241;43m=\u001b[39;49m\u001b[43mrmh\u001b[49m\u001b[43m,\u001b[49m\u001b[43m \u001b[49m\u001b[43mnum_particles\u001b[49m\u001b[38;5;241;43m=\u001b[39;49m\u001b[43mnum_particles\u001b[49m\u001b[43m,\u001b[49m\u001b[43m \u001b[49m\u001b[43mnum_mcmc_steps\u001b[49m\u001b[38;5;241;43m=\u001b[39;49m\u001b[43mnum_mcmc_steps\u001b[49m\u001b[43m)\u001b[49m\n",
      "File \u001b[0;32m/scratch/big/home/maxhin/Documents/Repos/bamojax/bamojax/sampling.py:328\u001b[0m, in \u001b[0;36msmc_inference_loop\u001b[0;34m(key, model, kernel, num_particles, num_mcmc_steps, num_chains, mcmc_parameters, resampling_fn, target_ess)\u001b[0m\n\u001b[1;32m    326\u001b[0m \u001b[38;5;66;03m#        \u001b[39;00m\n\u001b[1;32m    327\u001b[0m keys \u001b[38;5;241m=\u001b[39m jrnd\u001b[38;5;241m.\u001b[39msplit(key, num_chains)\n\u001b[0;32m--> 328\u001b[0m final_state, lml, n_iter, final_info \u001b[38;5;241m=\u001b[39m \u001b[43mjax\u001b[49m\u001b[38;5;241;43m.\u001b[39;49m\u001b[43mvmap\u001b[49m\u001b[43m(\u001b[49m\u001b[43mrun_chain\u001b[49m\u001b[43m)\u001b[49m\u001b[43m(\u001b[49m\u001b[43mkeys\u001b[49m\u001b[43m)\u001b[49m\n\u001b[1;32m    330\u001b[0m \u001b[38;5;66;03m# squeeze the `chains` dim\u001b[39;00m\n\u001b[1;32m    331\u001b[0m n_iter \u001b[38;5;241m=\u001b[39m jax\u001b[38;5;241m.\u001b[39mtree_util\u001b[38;5;241m.\u001b[39mtree_map(\u001b[38;5;28;01mlambda\u001b[39;00m x: jnp\u001b[38;5;241m.\u001b[39msqueeze(x), n_iter)\n",
      "    \u001b[0;31m[... skipping hidden 3 frame]\u001b[0m\n",
      "File \u001b[0;32m/scratch/big/home/maxhin/Documents/Repos/bamojax/bamojax/sampling.py:323\u001b[0m, in \u001b[0;36msmc_inference_loop.<locals>.run_chain\u001b[0;34m(key_)\u001b[0m\n\u001b[1;32m    321\u001b[0m keys \u001b[38;5;241m=\u001b[39m jrnd\u001b[38;5;241m.\u001b[39msplit(key_init, num_particles)\n\u001b[1;32m    322\u001b[0m initial_particles \u001b[38;5;241m=\u001b[39m smc\u001b[38;5;241m.\u001b[39minit(jax\u001b[38;5;241m.\u001b[39mvmap(model\u001b[38;5;241m.\u001b[39msample_prior)(keys))\n\u001b[0;32m--> 323\u001b[0m n_iter, final_state, lml, final_info \u001b[38;5;241m=\u001b[39m \u001b[43mrun_smc\u001b[49m\u001b[43m(\u001b[49m\u001b[43mkey_smc\u001b[49m\u001b[43m,\u001b[49m\u001b[43m \u001b[49m\u001b[43msmc\u001b[49m\u001b[38;5;241;43m.\u001b[39;49m\u001b[43mstep\u001b[49m\u001b[43m,\u001b[49m\u001b[43m \u001b[49m\u001b[43minitial_particles\u001b[49m\u001b[43m)\u001b[49m        \n\u001b[1;32m    324\u001b[0m \u001b[38;5;28;01mreturn\u001b[39;00m final_state, lml, n_iter, final_info\n",
      "File \u001b[0;32m/scratch/big/home/maxhin/Documents/Repos/bamojax/bamojax/sampling.py:275\u001b[0m, in \u001b[0;36mrun_smc\u001b[0;34m(rng_key, smc_kernel, initial_state)\u001b[0m\n\u001b[1;32m    272\u001b[0m \u001b[38;5;66;03m#\u001b[39;00m\n\u001b[1;32m    273\u001b[0m \u001b[38;5;66;03m# call once to determine the info pytree structure - start the loop at iteration 1 instead of 0!\u001b[39;00m\n\u001b[1;32m    274\u001b[0m rng_key, key_init \u001b[38;5;241m=\u001b[39m jrnd\u001b[38;5;241m.\u001b[39msplit(rng_key)\n\u001b[0;32m--> 275\u001b[0m initial_state, sample_info \u001b[38;5;241m=\u001b[39m \u001b[43msmc_kernel\u001b[49m\u001b[43m(\u001b[49m\u001b[43mkey_init\u001b[49m\u001b[43m,\u001b[49m\u001b[43m \u001b[49m\u001b[43minitial_state\u001b[49m\u001b[43m)\u001b[49m\n\u001b[1;32m    276\u001b[0m initial_info \u001b[38;5;241m=\u001b[39m jax\u001b[38;5;241m.\u001b[39mtree_util\u001b[38;5;241m.\u001b[39mtree_map(\u001b[38;5;28;01mlambda\u001b[39;00m x: jax\u001b[38;5;241m.\u001b[39mnumpy\u001b[38;5;241m.\u001b[39mzeros_like(x), sample_info)\n\u001b[1;32m    277\u001b[0m initial_log_likelihood \u001b[38;5;241m=\u001b[39m sample_info\u001b[38;5;241m.\u001b[39mlog_likelihood_increment\n",
      "File \u001b[0;32m/scratch/big/home/maxhin/Documents/Repos/bamojax/bamojax/modified_blackjax/modified_adaptive_tempered.py:169\u001b[0m, in \u001b[0;36mas_top_level_api.<locals>.step_fn\u001b[0;34m(rng_key, state)\u001b[0m\n\u001b[1;32m    168\u001b[0m \u001b[38;5;28;01mdef\u001b[39;00m \u001b[38;5;21mstep_fn\u001b[39m(rng_key: PRNGKey, state):\n\u001b[0;32m--> 169\u001b[0m     \u001b[38;5;28;01mreturn\u001b[39;00m \u001b[43mkernel\u001b[49m\u001b[43m(\u001b[49m\n\u001b[1;32m    170\u001b[0m \u001b[43m        \u001b[49m\u001b[43mrng_key\u001b[49m\u001b[43m,\u001b[49m\n\u001b[1;32m    171\u001b[0m \u001b[43m        \u001b[49m\u001b[43mstate\u001b[49m\u001b[43m,\u001b[49m\n\u001b[1;32m    172\u001b[0m \u001b[43m        \u001b[49m\u001b[43mnum_mcmc_steps\u001b[49m\u001b[43m,\u001b[49m\n\u001b[1;32m    173\u001b[0m \u001b[43m        \u001b[49m\u001b[43mmcmc_parameters\u001b[49m\u001b[43m,\u001b[49m\n\u001b[1;32m    174\u001b[0m \u001b[43m    \u001b[49m\u001b[43m)\u001b[49m\n",
      "File \u001b[0;32m/scratch/big/home/maxhin/Documents/Repos/bamojax/bamojax/modified_blackjax/modified_adaptive_tempered.py:103\u001b[0m, in \u001b[0;36mbuild_kernel.<locals>.kernel\u001b[0;34m(rng_key, state, num_mcmc_steps, mcmc_parameters)\u001b[0m\n\u001b[1;32m    101\u001b[0m delta \u001b[38;5;241m=\u001b[39m compute_delta(state)\n\u001b[1;32m    102\u001b[0m lmbda \u001b[38;5;241m=\u001b[39m delta \u001b[38;5;241m+\u001b[39m state\u001b[38;5;241m.\u001b[39mlmbda\n\u001b[0;32m--> 103\u001b[0m \u001b[38;5;28;01mreturn\u001b[39;00m \u001b[43mtempered_kernel\u001b[49m\u001b[43m(\u001b[49m\u001b[43mrng_key\u001b[49m\u001b[43m,\u001b[49m\u001b[43m \u001b[49m\u001b[43mstate\u001b[49m\u001b[43m,\u001b[49m\u001b[43m \u001b[49m\u001b[43mnum_mcmc_steps\u001b[49m\u001b[43m,\u001b[49m\u001b[43m \u001b[49m\u001b[43mlmbda\u001b[49m\u001b[43m,\u001b[49m\u001b[43m \u001b[49m\u001b[43mmcmc_parameters\u001b[49m\u001b[43m)\u001b[49m\n",
      "File \u001b[0;32m/scratch/big/home/maxhin/Documents/Repos/bamojax/bamojax/modified_blackjax/modified_tempered.py:187\u001b[0m, in \u001b[0;36mbuild_kernel.<locals>.kernel\u001b[0;34m(rng_key, state, num_mcmc_steps, lmbda, mcmc_parameters)\u001b[0m\n\u001b[1;32m    177\u001b[0m shared_mcmc_step_fn \u001b[38;5;241m=\u001b[39m partial(mcmc_step_fn, \u001b[38;5;241m*\u001b[39m\u001b[38;5;241m*\u001b[39mshared_mcmc_parameters)\n\u001b[1;32m    179\u001b[0m update_fn, num_resampled \u001b[38;5;241m=\u001b[39m update_strategy(\n\u001b[1;32m    180\u001b[0m     mcmc_init_fn,\n\u001b[1;32m    181\u001b[0m     tempered_logposterior_fn,\n\u001b[0;32m   (...)\u001b[0m\n\u001b[1;32m    184\u001b[0m     num_mcmc_steps\u001b[38;5;241m=\u001b[39mnum_mcmc_steps,\n\u001b[1;32m    185\u001b[0m )\n\u001b[0;32m--> 187\u001b[0m smc_state, info \u001b[38;5;241m=\u001b[39m \u001b[43msmc\u001b[49m\u001b[38;5;241;43m.\u001b[39;49m\u001b[43mbase\u001b[49m\u001b[38;5;241;43m.\u001b[39;49m\u001b[43mstep\u001b[49m\u001b[43m(\u001b[49m\n\u001b[1;32m    188\u001b[0m \u001b[43m    \u001b[49m\u001b[43mrng_key\u001b[49m\u001b[43m,\u001b[49m\n\u001b[1;32m    189\u001b[0m \u001b[43m    \u001b[49m\u001b[43mSMCState\u001b[49m\u001b[43m(\u001b[49m\u001b[43mstate\u001b[49m\u001b[38;5;241;43m.\u001b[39;49m\u001b[43mparticles\u001b[49m\u001b[43m,\u001b[49m\u001b[43m \u001b[49m\u001b[43mstate\u001b[49m\u001b[38;5;241;43m.\u001b[39;49m\u001b[43mweights\u001b[49m\u001b[43m,\u001b[49m\u001b[43m \u001b[49m\u001b[43munshared_mcmc_parameters\u001b[49m\u001b[43m)\u001b[49m\u001b[43m,\u001b[49m\n\u001b[1;32m    190\u001b[0m \u001b[43m    \u001b[49m\u001b[43mupdate_fn\u001b[49m\u001b[43m,\u001b[49m\n\u001b[1;32m    191\u001b[0m \u001b[43m    \u001b[49m\u001b[43mjax\u001b[49m\u001b[38;5;241;43m.\u001b[39;49m\u001b[43mvmap\u001b[49m\u001b[43m(\u001b[49m\u001b[43mlog_weights_fn\u001b[49m\u001b[43m)\u001b[49m\u001b[43m,\u001b[49m\n\u001b[1;32m    192\u001b[0m \u001b[43m    \u001b[49m\u001b[43mresampling_fn\u001b[49m\u001b[43m,\u001b[49m\n\u001b[1;32m    193\u001b[0m \u001b[43m    \u001b[49m\u001b[43mnum_resampled\u001b[49m\u001b[43m,\u001b[49m\n\u001b[1;32m    194\u001b[0m \u001b[43m\u001b[49m\u001b[43m)\u001b[49m\n\u001b[1;32m    196\u001b[0m tempered_state \u001b[38;5;241m=\u001b[39m TemperedSMCState(\n\u001b[1;32m    197\u001b[0m     smc_state\u001b[38;5;241m.\u001b[39mparticles, smc_state\u001b[38;5;241m.\u001b[39mweights, state\u001b[38;5;241m.\u001b[39mlmbda \u001b[38;5;241m+\u001b[39m delta\n\u001b[1;32m    198\u001b[0m )\n\u001b[1;32m    200\u001b[0m \u001b[38;5;28;01mreturn\u001b[39;00m tempered_state, info\n",
      "File \u001b[0;32m~/anaconda3/envs/uicsdev_v2/lib/python3.10/site-packages/blackjax/smc/base.py:141\u001b[0m, in \u001b[0;36mstep\u001b[0;34m(rng_key, state, update_fn, weight_fn, resample_fn, num_resampled)\u001b[0m\n\u001b[1;32m    138\u001b[0m particles \u001b[38;5;241m=\u001b[39m jax\u001b[38;5;241m.\u001b[39mtree\u001b[38;5;241m.\u001b[39mmap(\u001b[38;5;28;01mlambda\u001b[39;00m x: x[resampling_idx], state\u001b[38;5;241m.\u001b[39mparticles)\n\u001b[1;32m    140\u001b[0m keys \u001b[38;5;241m=\u001b[39m jax\u001b[38;5;241m.\u001b[39mrandom\u001b[38;5;241m.\u001b[39msplit(updating_key, num_resampled)\n\u001b[0;32m--> 141\u001b[0m particles, update_info \u001b[38;5;241m=\u001b[39m \u001b[43mupdate_fn\u001b[49m\u001b[43m(\u001b[49m\u001b[43mkeys\u001b[49m\u001b[43m,\u001b[49m\u001b[43m \u001b[49m\u001b[43mparticles\u001b[49m\u001b[43m,\u001b[49m\u001b[43m \u001b[49m\u001b[43mstate\u001b[49m\u001b[38;5;241;43m.\u001b[39;49m\u001b[43mupdate_parameters\u001b[49m\u001b[43m)\u001b[49m\n\u001b[1;32m    143\u001b[0m log_weights \u001b[38;5;241m=\u001b[39m weight_fn(particles)\n\u001b[1;32m    144\u001b[0m logsum_weights \u001b[38;5;241m=\u001b[39m jax\u001b[38;5;241m.\u001b[39mscipy\u001b[38;5;241m.\u001b[39mspecial\u001b[38;5;241m.\u001b[39mlogsumexp(log_weights)\n",
      "    \u001b[0;31m[... skipping hidden 3 frame]\u001b[0m\n",
      "File \u001b[0;32m/scratch/big/home/maxhin/Documents/Repos/bamojax/bamojax/modified_blackjax/modified_tempered.py:74\u001b[0m, in \u001b[0;36mupdate_and_take_last.<locals>.mcmc_kernel\u001b[0;34m(rng_key, position, step_parameters)\u001b[0m\n\u001b[1;32m     71\u001b[0m     \u001b[38;5;28;01mreturn\u001b[39;00m new_state, info\n\u001b[1;32m     73\u001b[0m keys \u001b[38;5;241m=\u001b[39m jax\u001b[38;5;241m.\u001b[39mrandom\u001b[38;5;241m.\u001b[39msplit(rng_key, num_mcmc_steps)\n\u001b[0;32m---> 74\u001b[0m last_state, info \u001b[38;5;241m=\u001b[39m \u001b[43mjax\u001b[49m\u001b[38;5;241;43m.\u001b[39;49m\u001b[43mlax\u001b[49m\u001b[38;5;241;43m.\u001b[39;49m\u001b[43mscan\u001b[49m\u001b[43m(\u001b[49m\u001b[43mbody_fn\u001b[49m\u001b[43m,\u001b[49m\u001b[43m \u001b[49m\u001b[43mstate\u001b[49m\u001b[43m,\u001b[49m\u001b[43m \u001b[49m\u001b[43mkeys\u001b[49m\u001b[43m)\u001b[49m\n\u001b[1;32m     75\u001b[0m \u001b[38;5;28;01mreturn\u001b[39;00m last_state\u001b[38;5;241m.\u001b[39mposition, info\n",
      "    \u001b[0;31m[... skipping hidden 9 frame]\u001b[0m\n",
      "File \u001b[0;32m/scratch/big/home/maxhin/Documents/Repos/bamojax/bamojax/modified_blackjax/modified_tempered.py:68\u001b[0m, in \u001b[0;36mupdate_and_take_last.<locals>.mcmc_kernel.<locals>.body_fn\u001b[0;34m(state, rng_key)\u001b[0m\n\u001b[1;32m     67\u001b[0m \u001b[38;5;28;01mdef\u001b[39;00m \u001b[38;5;21mbody_fn\u001b[39m(state, rng_key):\n\u001b[0;32m---> 68\u001b[0m     new_state, info \u001b[38;5;241m=\u001b[39m \u001b[43mshared_mcmc_step_fn\u001b[49m\u001b[43m(\u001b[49m\n\u001b[1;32m     69\u001b[0m \u001b[43m        \u001b[49m\u001b[43mrng_key\u001b[49m\u001b[43m,\u001b[49m\u001b[43m \u001b[49m\u001b[43mstate\u001b[49m\u001b[43m,\u001b[49m\u001b[43m \u001b[49m\u001b[43mtempered_logposterior_fn\u001b[49m\u001b[43m,\u001b[49m\u001b[43m \u001b[49m\u001b[38;5;241;43m*\u001b[39;49m\u001b[38;5;241;43m*\u001b[39;49m\u001b[43mstep_parameters\u001b[49m\n\u001b[1;32m     70\u001b[0m \u001b[43m    \u001b[49m\u001b[43m)\u001b[49m\n\u001b[1;32m     71\u001b[0m     \u001b[38;5;28;01mreturn\u001b[39;00m new_state, info\n",
      "\u001b[0;31mTypeError\u001b[0m: additive_step_random_walk.<locals>.step_fn() takes 2 positional arguments but 3 were given"
     ]
    }
   ],
   "source": [
    "\n",
    "\n",
    "logdensity_fn = lambda state: copula_model.loglikelihood_fn()(state) + copula_model.logprior_fn()(state)\n",
    "rmh = normal_random_walk(logdensity_fn, sigma=0.03*jnp.eye(m))\n",
    "num_particles = 1_000\n",
    "num_mcmc_steps = 100\n",
    "\n",
    "key, subkey = jrnd.split(key)\n",
    "\n",
    "final_state, lml, n_iter, final_info = smc_inference_loop(subkey, model=copula_model, kernel=rmh, num_particles=num_particles, num_mcmc_steps=num_mcmc_steps)"
   ]
  },
  {
   "cell_type": "code",
   "execution_count": 24,
   "metadata": {},
   "outputs": [],
   "source": [
    "\n",
    "step_fns = dict(L_vec=normal_random_walk)\n",
    "\n",
    "step_fn_params = dict(L_vec=dict(sigma=0.03*jnp.eye(m)))\n",
    "\n",
    "gibbs = gibbs_sampler(copula_model, step_fns=step_fns, step_fn_params=step_fn_params)"
   ]
  },
  {
   "cell_type": "code",
   "execution_count": null,
   "metadata": {},
   "outputs": [
    {
     "data": {
      "text/plain": [
       "<function blackjax.mcmc.random_walk.build_rmh.<locals>.kernel(rng_key: jax.Array, state: blackjax.mcmc.random_walk.RWState, logdensity_fn: Callable, transition_generator: Callable, proposal_logdensity_fn: Optional[Callable] = None) -> tuple[blackjax.mcmc.random_walk.RWState, blackjax.mcmc.random_walk.RWInfo]>"
      ]
     },
     "execution_count": 28,
     "metadata": {},
     "output_type": "execute_result"
    }
   ],
   "source": [
    "\n",
    "logdensity_fn = lambda state: copula_model.loglikelihood_fn()(state) + copula_model.logprior_fn()(state)\n",
    "rmh = normal_random_walk(logdensity_fn, sigma=0.03*jnp.eye(m))\n"
   ]
  }
 ],
 "metadata": {
  "kernelspec": {
   "display_name": "uicsdev_v2",
   "language": "python",
   "name": "python3"
  },
  "language_info": {
   "codemirror_mode": {
    "name": "ipython",
    "version": 3
   },
   "file_extension": ".py",
   "mimetype": "text/x-python",
   "name": "python",
   "nbconvert_exporter": "python",
   "pygments_lexer": "ipython3",
   "version": "3.10.15"
  }
 },
 "nbformat": 4,
 "nbformat_minor": 2
}
