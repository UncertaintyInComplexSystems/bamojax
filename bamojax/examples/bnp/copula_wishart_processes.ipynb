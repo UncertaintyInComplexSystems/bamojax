{
 "cells": [
  {
   "cell_type": "markdown",
   "metadata": {},
   "source": [
    "# Copula Wishart processes\n",
    "\n",
    "Wishart processes are used to model input-dependent covariance matrices. They can naturally be combined with multivariate Gaussian observations, as the Wishart process then simply provides the covariance matrix for the Gaussian at every input point. However, the situation becomes less straightforward when the observations are not Gaussian, or not even continuous. Here, we explore copula models that allow us to separate the multivariate correlation structure from the desired marginal distributions."
   ]
  },
  {
   "cell_type": "code",
   "execution_count": 6,
   "metadata": {},
   "outputs": [
    {
     "name": "stdout",
     "output_type": "stream",
     "text": [
      "The autoreload extension is already loaded. To reload it, use:\n",
      "  %reload_ext autoreload\n",
      "Setting CUDA visible devices to [6]\n"
     ]
    }
   ],
   "source": [
    "%load_ext autoreload\n",
    "%autoreload 2\n",
    "\n",
    "import os\n",
    "\n",
    "SELECTED_DEVICE = '6'\n",
    "print(f'Setting CUDA visible devices to [{SELECTED_DEVICE}]')\n",
    "os.environ['CUDA_VISIBLE_DEVICES'] = f'{SELECTED_DEVICE}'"
   ]
  },
  {
   "cell_type": "code",
   "execution_count": 7,
   "metadata": {},
   "outputs": [
    {
     "name": "stdout",
     "output_type": "stream",
     "text": [
      "Python version:        3.10.15 (main, Oct  3 2024, 07:27:34) [GCC 11.2.0]\n",
      "Jax version:           0.4.35\n",
      "BlackJax version:      1.2.4\n",
      "Distrax version:       0.1.5\n",
      "Jax default backend:   gpu\n",
      "Jax devices:           [CudaDevice(id=0)]\n"
     ]
    }
   ],
   "source": [
    "import matplotlib.pyplot as plt\n",
    "\n",
    "import jax\n",
    "jax.config.update(\"jax_enable_x64\", True)\n",
    "\n",
    "import jax.random as jrnd\n",
    "import jax.numpy as jnp\n",
    "import distrax as dx\n",
    "import blackjax\n",
    "\n",
    "from tensorflow_probability.substrates import jax as tfp\n",
    "tfd = tfp.distributions\n",
    "tfb = tfp.bijectors\n",
    "\n",
    "import os\n",
    "import sys\n",
    "\n",
    "from blackjax import normal_random_walk\n",
    "from blackjax.diagnostics import potential_scale_reduction, effective_sample_size\n",
    "\n",
    "from jaxtyping import Array\n",
    "\n",
    "sys.path.append(os.path.abspath(os.path.join(os.getcwd(), '../../../')))\n",
    "\n",
    "from bamojax.base import Node, Model\n",
    "from bamojax.sampling import gibbs_sampler, smc_inference_loop, elliptical_slice_nd, inference_loop\n",
    "\n",
    "from bamojax.more_distributions import GaussianProcessFactory, RBF, Zero, Wishart\n",
    "\n",
    "print('Python version:       ', sys.version)\n",
    "print('Jax version:          ', jax.__version__)\n",
    "print('BlackJax version:     ', blackjax.__version__)\n",
    "print('Distrax version:      ', dx.__version__)\n",
    "print('Jax default backend:  ', jax.default_backend())\n",
    "print('Jax devices:          ', jax.devices())"
   ]
  },
  {
   "cell_type": "markdown",
   "metadata": {},
   "source": [
    "## Copulas\n",
    "\n",
    "But first, estimate a covariance matrix:"
   ]
  },
  {
   "cell_type": "code",
   "execution_count": 8,
   "metadata": {},
   "outputs": [],
   "source": [
    "def vec2tril(v):\n",
    "    L_sample = jnp.zeros((p, p))\n",
    "    return L_sample.at[jnp.tril_indices(p, 0)].set(v)\n",
    "\n",
    "#\n",
    "\n",
    "def posdef_sigma(loc, L_vec):\n",
    "    L = vec2tril(L_vec)\n",
    "    return dict(loc=loc, covariance_matrix=jnp.dot(L, L.T))\n",
    "\n",
    "#\n",
    "cov = jnp.array([[1.0, 0.2], [0.2, 1.0]])\n",
    "p = cov.shape[0]\n",
    "nu = p + 1\n",
    "n = 1000\n",
    "m = int(p*(p+1)/2)\n",
    "\n",
    "key = jrnd.PRNGKey(42)\n",
    "key, subkey = jrnd.split(key)\n",
    "\n",
    "Y = jrnd.multivariate_normal(subkey, mean=jnp.zeros(p), cov=cov, shape=(n, ))\n",
    "\n",
    "copula_model = Model('Copulas')\n",
    "L_node = copula_model.add_node(name='L_vec', distribution=dx.Normal(loc=jnp.zeros(m), scale=jnp.ones(m)))\n",
    "Y_node = copula_model.add_node(name='Y', distribution=dx.MultivariateNormalFullCovariance, parents=dict(loc=jnp.zeros(p), L_vec=L_node), observations=Y, link_fn=posdef_sigma)\n"
   ]
  },
  {
   "cell_type": "markdown",
   "metadata": {},
   "source": [
    "**Note**: Naive proposals do not impose a positive definiteness constraint on $\\Sigma$ - we should instead sample $L$ in $\\Sigma=LL^\\top$."
   ]
  },
  {
   "cell_type": "code",
   "execution_count": 9,
   "metadata": {},
   "outputs": [
    {
     "name": "stdout",
     "output_type": "stream",
     "text": [
      "Acceptance rate: 0.359\n",
      "CPU times: user 8.25 s, sys: 1.67 s, total: 9.91 s\n",
      "Wall time: 9.5 s\n"
     ]
    }
   ],
   "source": [
    "%%time\n",
    "\n",
    "logdensity_fn = lambda state: copula_model.loglikelihood_fn()(state) + copula_model.logprior_fn()(state)\n",
    "rmh = normal_random_walk(logdensity_fn, sigma=0.03*jnp.eye(m))\n",
    "\n",
    "num_samples = 50_000\n",
    "num_burn = 50_000\n",
    "num_thin = 1\n",
    "num_chains = 1\n",
    "\n",
    "rmh_states, rmh_info = inference_loop(key, model=copula_model, kernel=rmh, num_samples=num_samples, num_burn=num_burn, num_chains=num_chains, num_thin=num_thin)\n",
    "\n",
    "print(f'Acceptance rate: {jnp.mean(1.0*rmh_info.is_accepted):0.3f}')"
   ]
  },
  {
   "cell_type": "code",
   "execution_count": 10,
   "metadata": {},
   "outputs": [
    {
     "data": {
      "text/plain": [
       "Array([[0.99330278, 0.21618209],\n",
       "       [0.21618209, 0.97584776]], dtype=float64)"
      ]
     },
     "execution_count": 10,
     "metadata": {},
     "output_type": "execute_result"
    }
   ],
   "source": [
    "mvn_params = jax.vmap(posdef_sigma, in_axes=(None, 0))(jnp.zeros(p), rmh_states.position['L_vec'])\n",
    "\n",
    "jnp.mean(mvn_params['covariance_matrix'], axis=0)"
   ]
  }
 ],
 "metadata": {
  "kernelspec": {
   "display_name": "uicsdev_v2",
   "language": "python",
   "name": "python3"
  },
  "language_info": {
   "codemirror_mode": {
    "name": "ipython",
    "version": 3
   },
   "file_extension": ".py",
   "mimetype": "text/x-python",
   "name": "python",
   "nbconvert_exporter": "python",
   "pygments_lexer": "ipython3",
   "version": "3.10.15"
  }
 },
 "nbformat": 4,
 "nbformat_minor": 2
}
