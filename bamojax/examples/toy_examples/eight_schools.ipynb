{
 "cells": [
  {
   "cell_type": "code",
   "execution_count": null,
   "metadata": {},
   "outputs": [
    {
     "ename": "",
     "evalue": "",
     "output_type": "error",
     "traceback": [
      "\u001b[1;31mFailed to start the Kernel. \n",
      "\u001b[1;31mThe kernel died. Error: ... View Jupyter <a href='command:jupyter.viewOutput'>log</a> for further details."
     ]
    }
   ],
   "source": [
    "%load_ext autoreload\n",
    "%autoreload 2\n",
    "\n",
    "import os\n",
    "\n",
    "SELECTED_DEVICE = '0'\n",
    "print(f'Setting CUDA visible devices to [{SELECTED_DEVICE}]')\n",
    "os.environ['CUDA_VISIBLE_DEVICES'] = f'{SELECTED_DEVICE}'"
   ]
  },
  {
   "cell_type": "code",
   "execution_count": null,
   "metadata": {},
   "outputs": [],
   "source": [
    "import matplotlib.pyplot as plt\n",
    "\n",
    "import jax\n",
    "jax.config.update(\"jax_enable_x64\", True)\n",
    "\n",
    "import jax.random as jrnd\n",
    "import jax.numpy as jnp\n",
    "from jax.scipy.stats import gaussian_kde\n",
    "import distrax as dx\n",
    "import blackjax\n",
    "\n",
    "from tensorflow_probability.substrates import jax as tfp\n",
    "tfd = tfp.distributions\n",
    "tfb = tfp.bijectors\n",
    "\n",
    "import sys\n",
    "\n",
    "from bamojax.base import Model\n",
    "from bamojax.samplers import mcmc_sampler\n",
    "from bamojax.inference import SMCInference\n",
    "\n",
    "\n",
    "print('Python version:     ', sys.version)\n",
    "print('Jax version:        ', jax.__version__)\n",
    "print('BlackJax version:   ', blackjax.__version__)\n",
    "print('Distrax version:    ', dx.__version__)\n",
    "print('Jax default backend:', jax.default_backend())\n",
    "print('Jax devices:        ', jax.devices())\n",
    "\n",
    "SMALL_SIZE = 12\n",
    "MEDIUM_SIZE = 16\n",
    "BIGGER_SIZE = 18\n",
    "\n",
    "plt.rc('font', size=SMALL_SIZE)          # controls default text sizes\n",
    "plt.rc('axes', titlesize=BIGGER_SIZE)     # fontsize of the axes title\n",
    "plt.rc('axes', labelsize=MEDIUM_SIZE)    # fontsize of the x and y labels\n",
    "plt.rc('xtick', labelsize=SMALL_SIZE)    # fontsize of the tick labels\n",
    "plt.rc('ytick', labelsize=SMALL_SIZE)    # fontsize of the tick labels\n",
    "plt.rc('legend', fontsize=MEDIUM_SIZE)    # legend fontsize\n",
    "plt.rc('figure', titlesize=BIGGER_SIZE)  # fontsize of the figure title"
   ]
  },
  {
   "cell_type": "markdown",
   "metadata": {},
   "source": [
    "# Eight schools\n",
    "\n",
    "The famous example of a hierarchical model.\n",
    "\n",
    "The data are:"
   ]
  },
  {
   "cell_type": "code",
   "execution_count": null,
   "metadata": {},
   "outputs": [],
   "source": [
    "means = jnp.array([28, 8, -3, 7, -1, 1, 18, 12])\n",
    "stddevs = jnp.array([15, 10, 16, 11, 9, 11, 10, 18])\n",
    "\n",
    "J = len(means)"
   ]
  },
  {
   "cell_type": "markdown",
   "metadata": {},
   "source": [
    "The model definition is:"
   ]
  },
  {
   "cell_type": "code",
   "execution_count": null,
   "metadata": {},
   "outputs": [],
   "source": [
    "ES = Model('eight schools')\n",
    "mu = ES.add_node('mu', distribution=dx.Normal(loc=0, scale=10))\n",
    "tau = ES.add_node('tau', distribution=dx.Transformed(dx.Normal(loc=5, scale=1), tfb.Exp()))\n",
    "theta = ES.add_node('theta', distribution=dx.Normal, parents=dict(loc=mu, scale=tau), shape=(J, ))\n",
    "y = ES.add_node('y', distribution=dx.Normal, parents=dict(loc=theta, scale=stddevs), observations=means)"
   ]
  },
  {
   "cell_type": "markdown",
   "metadata": {},
   "source": [
    "Set up inference:"
   ]
  },
  {
   "cell_type": "code",
   "execution_count": null,
   "metadata": {},
   "outputs": [],
   "source": [
    "mcmc_params = dict(sigma=4.0*jnp.eye(ES.get_model_size()))\n",
    "rmh_kernel = mcmc_sampler(ES, mcmc_kernel=blackjax.normal_random_walk, mcmc_parameters=mcmc_params)\n",
    "\n",
    "num_particles = 10_000\n",
    "num_mutations = 100\n",
    "num_chains = 4\n",
    "\n",
    "key = jrnd.PRNGKey(0)\n",
    "\n",
    "engine = SMCInference(model=ES, num_chains=num_chains, mcmc_kernel=rmh_kernel, num_particles=num_particles, num_mutations=num_mutations)\n",
    "result = engine.run(key)"
   ]
  },
  {
   "cell_type": "code",
   "execution_count": null,
   "metadata": {},
   "outputs": [],
   "source": [
    "_, axes = plt.subplots(nrows=1, ncols=J, sharex=True, sharey=True, constrained_layout=True, figsize=(16, 2))\n",
    "\n",
    "xlim = [-30, 60]\n",
    "xrange = jnp.linspace(*xlim, 100)\n",
    "\n",
    "for i, ax in enumerate(axes):\n",
    "    for c in range(num_chains):\n",
    "        pdf = gaussian_kde(result['final_state'].particles['theta'][c, :, i])\n",
    "        ax.plot(xrange, pdf(xrange), lw=1)\n",
    "    ax.axvline(x=means[i], ls='--', color='k')\n",
    "    ax.set_ylim([0.0, 0.06])\n",
    "    ax.set_xlim(*xlim)\n",
    "    ax.set_xlabel(fr'$\\theta_{i+1}$', fontsize=MEDIUM_SIZE)\n",
    "\n",
    "mu_range = jnp.linspace(-10, 30, 100)\n",
    "plt.figure(figsize=(3, 2))\n",
    "ax = plt.gca()\n",
    "for c in range(num_chains):\n",
    "    pdf = gaussian_kde(result['final_state'].particles['mu'][c, :])\n",
    "    ax.plot(mu_range, pdf(mu_range), lw=1)\n",
    "ax.set_xlim([-10, 30])\n",
    "ax.set_ylim(bottom=0)\n",
    "ax.set_xlabel(r'$\\mu$', fontsize=MEDIUM_SIZE);\n",
    "\n",
    "tau_range = jnp.linspace(0, 50, 100)\n",
    "plt.figure(figsize=(3, 2))\n",
    "ax = plt.gca()\n",
    "for c in range(num_chains):\n",
    "    pdf = gaussian_kde(result['final_state'].particles['tau'][c, :])\n",
    "    ax.plot(tau_range, pdf(tau_range), lw=1)\n",
    "ax.set_xlim([0, 50])\n",
    "ax.set_ylim(bottom=0)\n",
    "ax.set_xlabel(r'$\\tau$', fontsize=MEDIUM_SIZE);"
   ]
  },
  {
   "cell_type": "code",
   "execution_count": null,
   "metadata": {},
   "outputs": [],
   "source": [
    "posterior_mean = jnp.mean(result['final_state'].particles['theta'].flatten())\n",
    "posterior_std = jnp.std(result['final_state'].particles['theta'].flatten())\n",
    "\n",
    "print(f'Posterior mean: {posterior_mean:0.3f}')\n",
    "print(f'Posterior stddev: {posterior_std:0.3f}')"
   ]
  }
 ],
 "metadata": {
  "kernelspec": {
   "display_name": "uicsdev_v2",
   "language": "python",
   "name": "python3"
  },
  "language_info": {
   "codemirror_mode": {
    "name": "ipython",
    "version": 3
   },
   "file_extension": ".py",
   "mimetype": "text/x-python",
   "name": "python",
   "nbconvert_exporter": "python",
   "pygments_lexer": "ipython3",
   "version": "3.10.15"
  }
 },
 "nbformat": 4,
 "nbformat_minor": 2
}
