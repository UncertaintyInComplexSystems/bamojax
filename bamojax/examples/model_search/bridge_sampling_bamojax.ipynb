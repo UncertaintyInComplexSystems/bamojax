{
 "cells": [
  {
   "cell_type": "code",
   "execution_count": 1,
   "id": "51565846",
   "metadata": {},
   "outputs": [
    {
     "name": "stdout",
     "output_type": "stream",
     "text": [
      "Setting CUDA visible devices to [0]\n"
     ]
    }
   ],
   "source": [
    "%load_ext autoreload\n",
    "%autoreload 2\n",
    "\n",
    "import os\n",
    "\n",
    "SELECTED_DEVICE = '0'\n",
    "print(f'Setting CUDA visible devices to [{SELECTED_DEVICE}]')\n",
    "os.environ['CUDA_VISIBLE_DEVICES'] = f'{SELECTED_DEVICE}'"
   ]
  },
  {
   "cell_type": "code",
   "execution_count": 2,
   "id": "57a8ac2f",
   "metadata": {},
   "outputs": [
    {
     "name": "stdout",
     "output_type": "stream",
     "text": [
      "Python version:      3.11.13 | packaged by conda-forge | (main, Jun  4 2025, 14:48:23) [GCC 13.3.0]\n",
      "Jax version:         0.7.2\n",
      "BlackJax version:    1.2.5\n",
      "Bamojax version:     0.3.4+0.g3c4f67a.dirty\n",
      "Numpyro version:     0.19.0\n",
      "Jax default backend: gpu\n",
      "Jax devices:         [CudaDevice(id=0)]\n"
     ]
    }
   ],
   "source": [
    "import matplotlib.pyplot as plt\n",
    "\n",
    "import jax\n",
    "jax.config.update(\"jax_enable_x64\", True)\n",
    "\n",
    "import jax.random as jrnd\n",
    "import jax.numpy as jnp\n",
    "\n",
    "from jax.flatten_util import ravel_pytree\n",
    "from jax.scipy.special import logsumexp\n",
    "\n",
    "import blackjax\n",
    "import numpyro as npr\n",
    "import numpyro.distributions as dist\n",
    "import numpyro.distributions.transforms as nprb\n",
    "import numpyro.distributions.constraints as constraints\n",
    "from numpyro.distributions.transforms import Transform\n",
    "\n",
    "import sys\n",
    "\n",
    "import bamojax\n",
    "from bamojax.base import Model\n",
    "from bamojax.samplers import mcmc_sampler\n",
    "from bamojax.inference import SMCInference, MCMCInference\n",
    "from bamojax.marginal_likelihoods.bridge_sampling import bridge_sampling\n",
    "\n",
    "\n",
    "print('Python version:     ', sys.version)\n",
    "print('Jax version:        ', jax.__version__)\n",
    "print('BlackJax version:   ', blackjax.__version__)\n",
    "print('Bamojax version:    ', bamojax.__version__)\n",
    "print('Numpyro version:    ', npr.__version__)\n",
    "print('Jax default backend:', jax.default_backend())\n",
    "print('Jax devices:        ', jax.devices())\n",
    "\n",
    "SMALL_SIZE = 12\n",
    "MEDIUM_SIZE = 16\n",
    "BIGGER_SIZE = 18\n",
    "\n",
    "plt.rc('font', size=SMALL_SIZE)          # controls default text sizes\n",
    "plt.rc('axes', titlesize=BIGGER_SIZE)     # fontsize of the axes title\n",
    "plt.rc('axes', labelsize=MEDIUM_SIZE)    # fontsize of the x and y labels\n",
    "plt.rc('xtick', labelsize=SMALL_SIZE)    # fontsize of the tick labels\n",
    "plt.rc('ytick', labelsize=SMALL_SIZE)    # fontsize of the tick labels\n",
    "plt.rc('legend', fontsize=MEDIUM_SIZE)    # legend fontsize\n",
    "plt.rc('figure', titlesize=BIGGER_SIZE)  # fontsize of the figure title"
   ]
  },
  {
   "cell_type": "markdown",
   "id": "b854e7c7",
   "metadata": {},
   "source": [
    "# Bridge sampling implementation in **bamojax**\n",
    "\n",
    "Based on Gronau et al. (2017).\n",
    "\n",
    "First, we set up the toy example model:"
   ]
  },
  {
   "cell_type": "code",
   "execution_count": 3,
   "id": "1db16e86",
   "metadata": {},
   "outputs": [],
   "source": [
    "z, N = 2, 10\n",
    "a, b = 1, 1\n",
    "\n",
    "beta_binom = Model('beta-binomial')\n",
    "\n",
    "theta_node = beta_binom.add_node('theta', distribution=dist.Beta(concentration1=a, concentration0=b))\n",
    "z_node = beta_binom.add_node('z', distribution=dist.Binomial, parents=dict(probs=theta_node, total_count=N), observations=z)"
   ]
  },
  {
   "cell_type": "markdown",
   "id": "1b19dd1e",
   "metadata": {},
   "source": [
    "Obtain posterior samples"
   ]
  },
  {
   "cell_type": "code",
   "execution_count": 4,
   "id": "0aed7f81",
   "metadata": {},
   "outputs": [
    {
     "name": "stdout",
     "output_type": "stream",
     "text": [
      "Adapting NUTS HMC parameters... done.\n"
     ]
    }
   ],
   "source": [
    "N1 = 5_000\n",
    "key = jrnd.PRNGKey(0)\n",
    "key, subkey = jrnd.split(key)\n",
    "\n",
    "m = beta_binom.get_model_size()\n",
    "cold_nuts_parameters = dict(step_size=0.5, inverse_mass_matrix=0.0001*jnp.eye(m))  # these will be overriden by the window adaptation\n",
    "nuts_kernel = mcmc_sampler(model=beta_binom, mcmc_kernel=blackjax.nuts, mcmc_parameters=cold_nuts_parameters)\n",
    "\n",
    "# we want to sample twice as many samples, since we need them for constructing the bridge density as well as for...\n",
    "engine = MCMCInference(model=beta_binom, mcmc_kernel=nuts_kernel, num_samples=2*N1, num_burn=0, num_warmup=1_000, num_thin=1)\n",
    "results = engine.run(subkey)\n",
    "\n",
    "posterior_samples = results['states']"
   ]
  },
  {
   "cell_type": "code",
   "execution_count": 5,
   "id": "200dae3e",
   "metadata": {},
   "outputs": [
    {
     "data": {
      "image/png": "[encoded data removed]",
      "text/plain": [
       "<Figure size 600x300 with 1 Axes>"
      ]
     },
     "metadata": {},
     "output_type": "display_data"
    }
   ],
   "source": [
    "plt.figure(figsize=(6, 3))\n",
    "ax = plt.gca()\n",
    "ax.hist(posterior_samples['theta'], density=True, bins=30)\n",
    "ax.set_xlabel(r'$\\theta$', fontsize=9)\n",
    "ax.set_ylabel(r'$p(\\theta\\mid z,N)$', fontsize=9);\n",
    "ax.set_title('Posterior approximation', fontsize=10)\n",
    "ax.set_xlim(0, 1);"
   ]
  },
  {
   "cell_type": "code",
   "execution_count": 6,
   "id": "3a0515a4",
   "metadata": {},
   "outputs": [
    {
     "name": "stdout",
     "output_type": "stream",
     "text": [
      "True marginal likelihood: 0.0909\n"
     ]
    }
   ],
   "source": [
    "from jax.scipy.special import betaln, gammaln\n",
    "\n",
    "def binomln(N, k):\n",
    "    return gammaln(N + 1) - gammaln(k + 1) - gammaln(N - k + 1)\n",
    "\n",
    "\n",
    "true_Z = jnp.exp(binomln(N, z) + betaln(z + a, N - z + b) - betaln(a, b))\n",
    "print(f'True marginal likelihood: {true_Z:.4f}')"
   ]
  },
  {
   "cell_type": "markdown",
   "id": "f18c7255",
   "metadata": {},
   "source": [
    "To replicate Gronau's example, we need the NormalCDF/Probit transform, which is not native to Numpyro. However, it is straightforward to implement:"
   ]
  },
  {
   "cell_type": "code",
   "execution_count": 7,
   "id": "c72d9b89",
   "metadata": {},
   "outputs": [],
   "source": [
    "class ProbitTransform(Transform):\n",
    "\n",
    "    def __init__(self, domain=constraints.real):\n",
    "        self.domain = domain\n",
    "        self.codomain = constraints.unit_interval\n",
    "\n",
    "    #\n",
    "    def __call__(self, x):\n",
    "        # forward: R -> (0,1)\n",
    "        return 0.5 * (1.0 + jax.lax.erf(x / jnp.sqrt(2.0)))\n",
    "\n",
    "    #\n",
    "    def _inverse(self, y):\n",
    "        # inverse: (0,1) -> R  (clipped for numerical stability)\n",
    "        return jnp.sqrt(2.0) * jax.scipy.special.erfinv(2.0 * y - 1.0)\n",
    "\n",
    "    #\n",
    "    def log_abs_det_jacobian(self, x, y, intermediates=None):\n",
    "        # log |dΦ/dx| = log φ(x) = -0.5 x^2 - 0.5 log(2π)\n",
    "        return -0.5 * x**2 - 0.5 * jnp.log(2.0 * jnp.pi)\n",
    "\n",
    "    #\n",
    "    def tree_flatten(self):\n",
    "        return (self.domain,), ((\"domain\",), dict())\n",
    "    \n",
    "    #\n",
    "\n",
    "#"
   ]
  },
  {
   "cell_type": "markdown",
   "id": "9bd1feb1",
   "metadata": {},
   "source": [
    "## Bridge sampling algorithm"
   ]
  },
  {
   "cell_type": "markdown",
   "id": "d2959145",
   "metadata": {},
   "source": [
    "Will be moved to `marginal_likelihoods.py`."
   ]
  },
  {
   "cell_type": "code",
   "execution_count": 10,
   "id": "9fcaaecf",
   "metadata": {},
   "outputs": [
    {
     "name": "stdout",
     "output_type": "stream",
     "text": [
      "beta-binomial marginal likelihood: 0.09073947011147135\n"
     ]
    }
   ],
   "source": [
    "bridge_sampling_bijectors = dict(theta=ProbitTransform())\n",
    "\n",
    "bridge_sampling_estimate = bridge_sampling(key=jrnd.PRNGKey(0),\n",
    "                                           model=beta_binom, \n",
    "                                           posterior_samples=posterior_samples, \n",
    "                                           bijectors=bridge_sampling_bijectors, \n",
    "                                           proposal_type='gaussian', N2=1000)\n",
    "\n",
    "print('beta-binomial marginal likelihood:', jnp.exp(bridge_sampling_estimate[0]))"
   ]
  },
  {
   "cell_type": "markdown",
   "id": "9a2bcb3e",
   "metadata": {},
   "source": [
    "Try on a new model now:"
   ]
  },
  {
   "cell_type": "code",
   "execution_count": 11,
   "id": "cc20fcfa",
   "metadata": {},
   "outputs": [
    {
     "data": {
      "image/png": "[encoded data removed]",
      "text/plain": [
       "<Figure size 600x300 with 1 Axes>"
      ]
     },
     "metadata": {},
     "output_type": "display_data"
    }
   ],
   "source": [
    "import pandas as pd\n",
    "\n",
    "files = ['2005-06', '2006-07', '2007-08']\n",
    "goals = []\n",
    "\n",
    "for year in files:\n",
    "    df = pd.read_csv(f'/scratch/big/home/maxhin/Documents/Code/Bayesian Model Comparison/data/English premiership/{year}.csv')  \n",
    "    total_goals = df['FTHG'] + df['FTAG']\n",
    "    total_goals_array = total_goals.to_numpy()\n",
    "    goals.extend(total_goals_array)\n",
    "\n",
    "Y = jnp.array(goals)\n",
    "n = len(Y)\n",
    "plt.figure(figsize=(6, 3))\n",
    "ax = plt.gca()\n",
    "ax.hist(Y, bins=jnp.arange(0, 10, 1))\n",
    "ax.set_xlabel('Goals')\n",
    "ax.set_xlabel('Count');"
   ]
  },
  {
   "cell_type": "code",
   "execution_count": 12,
   "id": "1f7fa4be",
   "metadata": {},
   "outputs": [],
   "source": [
    "def construct_poisson_model(observations) -> Model:\n",
    "    model = Model('Poisson')\n",
    "    rate_node = model.add_node('lam', distribution=dist.Gamma(concentration=25, rate=10))\n",
    "    _ = model.add_node('Y', observations=observations, parents=dict(rate=rate_node), distribution=dist.Poisson)\n",
    "    return model\n",
    "\n",
    "#\n",
    "def construct_negative_binomial_model(observations) -> Model:\n",
    "    # Note: Hastie & Green, Wikipedia, and TFD all have their own parametrizations of the negative binomial\n",
    "    def negbin_link_fn(rate, dispersion):\n",
    "        p = rate / (rate + 1 / dispersion)\n",
    "        r = 1 / dispersion\n",
    "        return dict(probs=p, total_count=r)\n",
    "\n",
    "    #\n",
    "\n",
    "    model = Model('Negative binomial')\n",
    "    rate_node = model.add_node('lam', distribution=dist.Gamma(concentration=25, rate=10)) \n",
    "    dispersion_node = model.add_node('kappa', distribution=dist.Gamma(concentration=1, rate=10))  \n",
    "    _ = model.add_node('Y', observations=observations, parents=dict(rate=rate_node, dispersion=dispersion_node), distribution=dist.NegativeBinomialProbs, link_fn=negbin_link_fn)\n",
    "    return model\n",
    "\n",
    "#\n",
    "\n",
    "poisson_model = construct_poisson_model(Y)\n",
    "negbin_model = construct_negative_binomial_model(Y)"
   ]
  },
  {
   "cell_type": "code",
   "execution_count": 13,
   "id": "e9f1f034",
   "metadata": {},
   "outputs": [
    {
     "name": "stdout",
     "output_type": "stream",
     "text": [
      "Inference for Poisson model\n",
      "Inference for Negative binomial model\n",
      "CPU times: user 1min 30s, sys: 1.62 s, total: 1min 32s\n",
      "Wall time: 1min 32s\n"
     ]
    }
   ],
   "source": [
    "%%time\n",
    "\n",
    "models = [poisson_model, negbin_model]\n",
    "num_mutations = 100\n",
    "results = {}\n",
    "\n",
    "for model in models:\n",
    "    print(f'Inference for {model.name} model')\n",
    "    mcmc_params = dict(sigma=0.1*jnp.eye(model.get_model_size()))\n",
    "    rmh_kernel = mcmc_sampler(model, mcmc_kernel=blackjax.normal_random_walk, mcmc_parameters=mcmc_params)\n",
    "\n",
    "    num_particles = 5_000\n",
    "    num_chains = 1\n",
    "\n",
    "    key = jrnd.PRNGKey(0)\n",
    "    engine = SMCInference(model=model, num_chains=num_chains, mcmc_kernel=rmh_kernel, num_particles=num_particles, num_mutations=num_mutations)\n",
    "    result = engine.run(key)\n",
    "    results[model.name] = result\n"
   ]
  },
  {
   "cell_type": "code",
   "execution_count": 14,
   "id": "dd54f4ad",
   "metadata": {},
   "outputs": [
    {
     "name": "stdout",
     "output_type": "stream",
     "text": [
      "Log marginal likelihood Poisson model: -2105.5046099154274\n",
      "Log marginal likelihood negative binomial model: -2106.4151302478485\n",
      "Posterior model probability Poisson model: 0.713\n",
      "Posterior model probability Negative-Binomial model: 0.287\n"
     ]
    }
   ],
   "source": [
    "poisson_bijectors = dict(lam=nprb.ExpTransform())\n",
    "\n",
    "lml_poisson, _ = bridge_sampling(key=jrnd.PRNGKey(0),\n",
    "                                 model=poisson_model, \n",
    "                                 posterior_samples=results[poisson_model.name]['final_state'].particles, \n",
    "                                 bijectors=poisson_bijectors, \n",
    "                                 proposal_type='gaussian', N2=1000)\n",
    "\n",
    "print('Log marginal likelihood Poisson model:', lml_poisson)\n",
    "\n",
    "negbin_bijectors = dict(lam=nprb.ExpTransform(), kappa=nprb.ExpTransform())\n",
    "\n",
    "lml_negbin, _ = bridge_sampling(key=jrnd.PRNGKey(1),\n",
    "                                model=negbin_model,\n",
    "                                posterior_samples=results[negbin_model.name]['final_state'].particles, \n",
    "                                bijectors=negbin_bijectors, \n",
    "                                proposal_type='gaussian', N2=1000)\n",
    "\n",
    "print('Log marginal likelihood negative binomial model:', lml_negbin)\n",
    "\n",
    "\n",
    "BF_poisson_negbin = jnp.exp(lml_poisson - lml_negbin)\n",
    "pmp_poisson = BF_poisson_negbin / (1 + BF_poisson_negbin)\n",
    "pmp_negbin = 1 - pmp_poisson\n",
    "\n",
    "print(f'Posterior model probability Poisson model: {pmp_poisson:0.3f}', flush=True)\n",
    "print(f'Posterior model probability Negative-Binomial model: {pmp_negbin:0.3f}', flush=True)"
   ]
  },
  {
   "cell_type": "markdown",
   "id": "26246ffe",
   "metadata": {},
   "source": [
    "These results all confirm the Hastie & Green example."
   ]
  }
 ],
 "metadata": {
  "kernelspec": {
   "display_name": "bamojax_numpyro",
   "language": "python",
   "name": "python3"
  },
  "language_info": {
   "codemirror_mode": {
    "name": "ipython",
    "version": 3
   },
   "file_extension": ".py",
   "mimetype": "text/x-python",
   "name": "python",
   "nbconvert_exporter": "python",
   "pygments_lexer": "ipython3",
   "version": "3.11.13"
  }
 },
 "nbformat": 4,
 "nbformat_minor": 5
}
