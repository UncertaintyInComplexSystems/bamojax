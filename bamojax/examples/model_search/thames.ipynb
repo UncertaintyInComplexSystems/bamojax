{
 "cells": [
  {
   "cell_type": "markdown",
   "id": "98a69cb1",
   "metadata": {},
   "source": [
    "# Truncated Harmonic Mean Estimator (THAMES)\n",
    "\n",
    "Metodiev et al. (2025), Bayesian Analysis"
   ]
  },
  {
   "cell_type": "code",
   "execution_count": 1,
   "id": "854669b7",
   "metadata": {},
   "outputs": [
    {
     "name": "stdout",
     "output_type": "stream",
     "text": [
      "Setting CUDA visible devices to []\n"
     ]
    }
   ],
   "source": [
    "%load_ext autoreload\n",
    "%autoreload 2\n",
    "\n",
    "import os\n",
    "\n",
    "SELECTED_DEVICE = ''\n",
    "print(f'Setting CUDA visible devices to [{SELECTED_DEVICE}]')\n",
    "os.environ['CUDA_VISIBLE_DEVICES'] = f'{SELECTED_DEVICE}'"
   ]
  },
  {
   "cell_type": "code",
   "execution_count": 12,
   "id": "4fd68d3b",
   "metadata": {},
   "outputs": [
    {
     "name": "stdout",
     "output_type": "stream",
     "text": [
      "Python version:      3.11.13 | packaged by conda-forge | (main, Jun  4 2025, 14:48:23) [GCC 13.3.0]\n",
      "Jax version:         0.7.2\n",
      "BlackJax version:    1.2.5\n",
      "Bamojax version:     0.3.10+3.g5a6585a\n",
      "Numpyro version:     0.19.0\n",
      "Jax default backend: cpu\n",
      "Jax devices:         [CpuDevice(id=0)]\n"
     ]
    }
   ],
   "source": [
    "import matplotlib.pyplot as plt\n",
    "\n",
    "import jax\n",
    "jax.config.update(\"jax_enable_x64\", True)\n",
    "\n",
    "import jax.random as jrnd\n",
    "import jax.numpy as jnp\n",
    "from jax.scipy.special import logsumexp, gammaln\n",
    "\n",
    "import blackjax\n",
    "import numpyro as npr\n",
    "import numpyro.distributions as dist\n",
    "import numpyro.distributions.transforms as nprb\n",
    "import pandas as pd\n",
    "import sys\n",
    "\n",
    "import bamojax\n",
    "from bamojax.base import Model\n",
    "from bamojax.samplers import mcmc_sampler\n",
    "from bamojax.inference import MCMCInference, SMCInference\n",
    "from bamojax.marginal_likelihoods.utility import flatten_dict_to_array\n",
    "from bamojax.marginal_likelihoods.bridge_sampling import bridge_sampling\n",
    "from bamojax.marginal_likelihoods.thames import thames\n",
    "\n",
    "print('Python version:     ', sys.version)\n",
    "print('Jax version:        ', jax.__version__)\n",
    "print('BlackJax version:   ', blackjax.__version__)\n",
    "print('Bamojax version:    ', bamojax.__version__)\n",
    "print('Numpyro version:    ', npr.__version__)\n",
    "print('Jax default backend:', jax.default_backend())\n",
    "print('Jax devices:        ', jax.devices())\n",
    "\n",
    "SMALL_SIZE = 12\n",
    "MEDIUM_SIZE = 16\n",
    "BIGGER_SIZE = 18\n",
    "\n",
    "plt.rc('font', size=SMALL_SIZE)          # controls default text sizes\n",
    "plt.rc('axes', titlesize=BIGGER_SIZE)     # fontsize of the axes title\n",
    "plt.rc('axes', labelsize=MEDIUM_SIZE)    # fontsize of the x and y labels\n",
    "plt.rc('xtick', labelsize=SMALL_SIZE)    # fontsize of the tick labels\n",
    "plt.rc('ytick', labelsize=SMALL_SIZE)    # fontsize of the tick labels\n",
    "plt.rc('legend', fontsize=MEDIUM_SIZE)    # legend fontsize\n",
    "plt.rc('figure', titlesize=BIGGER_SIZE)  # fontsize of the figure title"
   ]
  },
  {
   "cell_type": "code",
   "execution_count": 3,
   "id": "2351cf52",
   "metadata": {},
   "outputs": [
    {
     "data": {
      "image/png": "[encoded data removed]",
      "text/plain": [
       "<Figure size 600x300 with 1 Axes>"
      ]
     },
     "metadata": {},
     "output_type": "display_data"
    }
   ],
   "source": [
    "files = ['2005-06', '2006-07', '2007-08']\n",
    "goals = []\n",
    "\n",
    "for year in files:\n",
    "    df = pd.read_csv(f'/scratch/big/home/maxhin/Documents/Code/Bayesian Model Comparison/data/English premiership/{year}.csv')  \n",
    "    total_goals = df['FTHG'] + df['FTAG']\n",
    "    total_goals_array = total_goals.to_numpy()\n",
    "    goals.extend(total_goals_array)\n",
    "\n",
    "Y = jnp.array(goals)\n",
    "n = len(Y)\n",
    "plt.figure(figsize=(6, 3))\n",
    "ax = plt.gca()\n",
    "ax.hist(Y, bins=jnp.arange(0, 10, 1))\n",
    "ax.set_xlabel('Goals')\n",
    "ax.set_xlabel('Count');"
   ]
  },
  {
   "cell_type": "code",
   "execution_count": 18,
   "id": "a4b63f52",
   "metadata": {},
   "outputs": [],
   "source": [
    "def construct_negative_binomial_model(observations) -> Model:\n",
    "    # Note: Hastie & Green, Wikipedia, and TFD all have their own parametrizations of the negative binomial\n",
    "    def negbin_link_fn(rate, dispersion):\n",
    "        p = rate / (rate + 1 / dispersion)\n",
    "        r = 1 / dispersion\n",
    "        return dict(probs=p, total_count=r)\n",
    "\n",
    "    #\n",
    "\n",
    "    model = Model('Negative binomial')\n",
    "    rate_node = model.add_node('lam', distribution=dist.Gamma(concentration=25, rate=10)) \n",
    "    dispersion_node = model.add_node('kappa', distribution=dist.Gamma(concentration=1, rate=10))  \n",
    "    _ = model.add_node('Y', observations=observations, parents=dict(rate=rate_node, dispersion=dispersion_node), distribution=dist.NegativeBinomialProbs, link_fn=negbin_link_fn)\n",
    "    return model\n",
    "\n",
    "#\n",
    "\n",
    "model = construct_negative_binomial_model(Y)"
   ]
  },
  {
   "cell_type": "code",
   "execution_count": 5,
   "id": "cdd3fb9e",
   "metadata": {},
   "outputs": [
    {
     "name": "stdout",
     "output_type": "stream",
     "text": [
      "Adapting NUTS HMC parameters... done.\n",
      "CPU times: user 20.4 s, sys: 1.55 s, total: 21.9 s\n",
      "Wall time: 8.98 s\n"
     ]
    }
   ],
   "source": [
    "%%time\n",
    "N = 5_000\n",
    "key = jrnd.PRNGKey(0)\n",
    "key, subkey = jrnd.split(key)\n",
    "\n",
    "m = model.get_model_size()\n",
    "cold_nuts_parameters = dict(step_size=0.5, inverse_mass_matrix=0.0001*jnp.eye(m))  # these will be overriden by the window adaptation\n",
    "nuts_kernel = mcmc_sampler(model=model, mcmc_kernel=blackjax.nuts, mcmc_parameters=cold_nuts_parameters)\n",
    "\n",
    "# we want to sample twice as many samples, since we need them for constructing the bridge density as well as for...\n",
    "engine = MCMCInference(model=model, mcmc_kernel=nuts_kernel, num_samples=2*N, num_burn=0, num_warmup=1_000, num_thin=1)\n",
    "results = engine.run(subkey)\n",
    "\n",
    "posterior_samples = results['states']"
   ]
  },
  {
   "cell_type": "markdown",
   "id": "4e010173",
   "metadata": {},
   "source": [
    "Marginal likelihood should be somewhere around -2106.4"
   ]
  },
  {
   "cell_type": "markdown",
   "id": "ac15deb8",
   "metadata": {},
   "source": [
    "## THAMES"
   ]
  },
  {
   "cell_type": "code",
   "execution_count": 6,
   "id": "e0786896",
   "metadata": {},
   "outputs": [
    {
     "name": "stdout",
     "output_type": "stream",
     "text": [
      "THAMES estimator: -2106.369620990967\n"
     ]
    }
   ],
   "source": [
    "lml_thames = thames(jrnd.PRNGKey(0), model, posterior_samples)\n",
    "\n",
    "print('THAMES estimator:', lml_thames)"
   ]
  },
  {
   "cell_type": "markdown",
   "id": "5b2b5865",
   "metadata": {},
   "source": [
    "Compare with bridge sampling:"
   ]
  },
  {
   "cell_type": "code",
   "execution_count": 29,
   "id": "e779e702",
   "metadata": {},
   "outputs": [
    {
     "name": "stdout",
     "output_type": "stream",
     "text": [
      "Bridge sampling estimate: -2106.382331654749\n"
     ]
    }
   ],
   "source": [
    "bridge_bijectors = dict(lam=nprb.ExpTransform(), kappa=nprb.ExpTransform())\n",
    "\n",
    "\n",
    "lml_bs, _ = bridge_sampling(key=jrnd.PRNGKey(1),\n",
    "                            model=model,\n",
    "                            posterior_samples=posterior_samples, \n",
    "                            bijectors=bridge_bijectors, \n",
    "                            proposal_type='gaussian', N2=1000)\n",
    "\n",
    "print('Bridge sampling estimate:', lml_bs)"
   ]
  },
  {
   "cell_type": "markdown",
   "id": "ede45226",
   "metadata": {},
   "source": [
    "To verify the approach works with different parameter shapes, let's try the log marginal likelihood estimators on the eight schools model:"
   ]
  },
  {
   "cell_type": "code",
   "execution_count": 37,
   "id": "b3942e7e",
   "metadata": {},
   "outputs": [
    {
     "name": "stdout",
     "output_type": "stream",
     "text": [
      "SMC log marginal likelihood: -36.13476016390077\n"
     ]
    }
   ],
   "source": [
    "means = jnp.array([28, 8, -3, 7, -1, 1, 18, 12])\n",
    "stddevs = jnp.array([15, 10, 16, 11, 9, 11, 10, 18])\n",
    "\n",
    "J = len(means)\n",
    "\n",
    "ES = Model('eight schools')\n",
    "mu = ES.add_node('mu', distribution=dist.Normal(loc=0, scale=10))\n",
    "tau = ES.add_node('tau', distribution=dist.TransformedDistribution(dist.Normal(loc=5, scale=1), nprb.ExpTransform()))\n",
    "theta = ES.add_node('theta', distribution=dist.Normal, parents=dict(loc=mu, scale=tau), shape=(J, ))\n",
    "y = ES.add_node('y', distribution=dist.Normal, parents=dict(loc=theta, scale=stddevs), observations=means)\n",
    "\n",
    "m = ES.get_model_size()\n",
    "mcmc_params = dict(sigma=4.0*jnp.eye(m))\n",
    "rmh_kernel = mcmc_sampler(ES, mcmc_kernel=blackjax.normal_random_walk, mcmc_parameters=mcmc_params)\n",
    "\n",
    "num_particles = 5_000\n",
    "num_mutations = 200\n",
    "num_chains = 1\n",
    "\n",
    "key = jrnd.PRNGKey(0)\n",
    "\n",
    "engine = SMCInference(model=ES, num_chains=num_chains, mcmc_kernel=rmh_kernel, num_particles=num_particles, num_mutations=num_mutations)\n",
    "result = engine.run(key)\n",
    "ES_SMC_posterior_samples = result['final_state'].particles\n",
    "\n",
    "print('SMC log marginal likelihood:', result['lml'])"
   ]
  },
  {
   "cell_type": "code",
   "execution_count": 38,
   "id": "ee5e4985",
   "metadata": {},
   "outputs": [
    {
     "name": "stdout",
     "output_type": "stream",
     "text": [
      "Adapting NUTS HMC parameters... done.\n",
      "CPU times: user 5.88 s, sys: 268 ms, total: 6.14 s\n",
      "Wall time: 2.09 s\n"
     ]
    }
   ],
   "source": [
    "%%time\n",
    "N = 5_000\n",
    "key = jrnd.PRNGKey(0)\n",
    "key, subkey = jrnd.split(key)\n",
    "\n",
    "m = ES.get_model_size()\n",
    "cold_nuts_parameters = dict(step_size=0.5, inverse_mass_matrix=0.0001*jnp.eye(m))  # these will be overriden by the window adaptation\n",
    "nuts_kernel = mcmc_sampler(model=ES, mcmc_kernel=blackjax.nuts, mcmc_parameters=cold_nuts_parameters)\n",
    "\n",
    "# we want to sample twice as many samples, since we need them for constructing the bridge density as well as for...\n",
    "engine = MCMCInference(model=ES, mcmc_kernel=nuts_kernel, num_samples=2*N, num_burn=0, num_warmup=1_000, num_thin=1)\n",
    "results = engine.run(subkey)\n",
    "\n",
    "ES_NUTS_posterior_samples = results['states']"
   ]
  },
  {
   "cell_type": "code",
   "execution_count": null,
   "id": "cef5938c",
   "metadata": {},
   "outputs": [
    {
     "name": "stdout",
     "output_type": "stream",
     "text": [
      "Posterior samples using SMC:\n",
      "THAMES estimator: -36.00558919799167\n",
      "Bridge sampling estimate: -36.157942830761996\n",
      "Posterior samples using NUTS:\n",
      "THAMES estimator: -35.98432733521786\n",
      "Bridge sampling estimate: -36.124341067462304\n"
     ]
    }
   ],
   "source": [
    "print('Posterior samples using SMC:')\n",
    "\n",
    "es_lml_thames = thames(jrnd.PRNGKey(1), model=ES, posterior_samples=ES_SMC_posterior_samples)\n",
    "\n",
    "print('THAMES estimator:', es_lml_thames)\n",
    "\n",
    "bridge_bijectors = dict(tau=nprb.ExpTransform())\n",
    "es_lml_bs, _ = bridge_sampling(key=jrnd.PRNGKey(1),\n",
    "                               model=ES,\n",
    "                               posterior_samples=ES_SMC_posterior_samples, \n",
    "                               bijectors=bridge_bijectors, \n",
    "                               proposal_type='gaussian', N2=1000)\n",
    "\n",
    "print('Bridge sampling estimate:', es_lml_bs)\n",
    "\n",
    "print('Posterior samples using NUTS:')\n",
    "\n",
    "es_lml_thames = thames(jrnd.PRNGKey(1), model=ES, posterior_samples=ES_NUTS_posterior_samples)\n",
    "\n",
    "print('THAMES estimator:', es_lml_thames)\n",
    "\n",
    "es_lml_bs, _ = bridge_sampling(key=jrnd.PRNGKey(1),\n",
    "                               model=ES,\n",
    "                               posterior_samples=ES_NUTS_posterior_samples, \n",
    "                               bijectors=bridge_bijectors, \n",
    "                               proposal_type='gaussian', N2=1000)\n",
    "\n",
    "print('Bridge sampling estimate:', es_lml_bs)"
   ]
  }
 ],
 "metadata": {
  "kernelspec": {
   "display_name": "bamojax_numpyro",
   "language": "python",
   "name": "python3"
  },
  "language_info": {
   "codemirror_mode": {
    "name": "ipython",
    "version": 3
   },
   "file_extension": ".py",
   "mimetype": "text/x-python",
   "name": "python",
   "nbconvert_exporter": "python",
   "pygments_lexer": "ipython3",
   "version": "3.11.13"
  }
 },
 "nbformat": 4,
 "nbformat_minor": 5
}
