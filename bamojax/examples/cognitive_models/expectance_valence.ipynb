{
 "cells": [
  {
   "cell_type": "markdown",
   "metadata": {},
   "source": [
    "# Evidence estimation in a Bayesian cognitive model\n"
   ]
  },
  {
   "cell_type": "code",
   "execution_count": 2,
   "metadata": {},
   "outputs": [
    {
     "name": "stdout",
     "output_type": "stream",
     "text": [
      "The autoreload extension is already loaded. To reload it, use:\n",
      "  %reload_ext autoreload\n",
      "Setting CUDA visible devices to [0]\n"
     ]
    }
   ],
   "source": [
    "%load_ext autoreload\n",
    "%autoreload 2\n",
    "\n",
    "import os\n",
    "\n",
    "# For JAX, we can use CPU (set SELECTED_DEVICE to empty (''), or one of the available GPUs)\n",
    "SELECTED_DEVICE = '0'\n",
    "print(f'Setting CUDA visible devices to [{SELECTED_DEVICE}]')\n",
    "os.environ['CUDA_VISIBLE_DEVICES'] = f'{SELECTED_DEVICE}'"
   ]
  },
  {
   "cell_type": "code",
   "execution_count": 4,
   "metadata": {},
   "outputs": [
    {
     "name": "stdout",
     "output_type": "stream",
     "text": [
      "Python version:        3.11.13 | packaged by conda-forge | (main, Jun  4 2025, 14:48:23) [GCC 13.3.0]\n",
      "Jax version:           0.7.2\n",
      "BlackJax version:      1.2.5\n",
      "Numpyro version:       0.19.0\n",
      "BaMoJax version:       0.2.0+49.gcbc3356.dirty\n",
      "Jax default backend:   gpu\n",
      "Jax devices:           [CudaDevice(id=0)]\n"
     ]
    }
   ],
   "source": [
    "import matplotlib.pyplot as plt\n",
    "\n",
    "import jax\n",
    "jax.config.update(\"jax_enable_x64\", True)  # Do we need this here? -> it seems we do for the LML computations (otherwise NaNs get introduced), but not for performance\n",
    "\n",
    "import jax.random as jrnd\n",
    "import jax.numpy as jnp\n",
    "import blackjax\n",
    "import pandas as pd\n",
    "import jax.scipy.special as jsp\n",
    "\n",
    "import numpyro as npr\n",
    "import numpyro.distributions as dist\n",
    "import numpyro.distributions.transforms as nprb\n",
    "\n",
    "import pyreadr as pr\n",
    "\n",
    "import os\n",
    "import sys\n",
    "import requests\n",
    "import time\n",
    "\n",
    "from blackjax import normal_random_walk, nuts\n",
    "\n",
    "import bamojax\n",
    "from bamojax.base import Node, Model\n",
    "from bamojax.samplers import gibbs_sampler, mcmc_sampler\n",
    "from bamojax.inference import SMCInference\n",
    "\n",
    "print('Python version:       ', sys.version)\n",
    "print('Jax version:          ', jax.__version__)\n",
    "print('BlackJax version:     ', blackjax.__version__)\n",
    "print('Numpyro version:      ', npr.__version__)\n",
    "print('BaMoJax version:      ', bamojax.__version__)\n",
    "print('Jax default backend:  ', jax.default_backend())\n",
    "print('Jax devices:          ', jax.devices())\n",
    "\n",
    "SMALL_SIZE = 14\n",
    "MEDIUM_SIZE = 16\n",
    "LARGE_SIZE = 22\n",
    "\n",
    "plt.rc('font', size=SMALL_SIZE)          # controls default text sizes\n",
    "plt.rc('axes', titlesize=LARGE_SIZE)     # fontsize of the axes title\n",
    "plt.rc('axes', labelsize=MEDIUM_SIZE)    # fontsize of the x and y labels\n",
    "plt.rc('xtick', labelsize=SMALL_SIZE)    # fontsize of the tick labels\n",
    "plt.rc('ytick', labelsize=SMALL_SIZE)    # fontsize of the tick labels\n",
    "plt.rc('legend', fontsize=MEDIUM_SIZE)    # legend fontsize\n",
    "plt.rc('figure', titlesize=LARGE_SIZE)  # fontsize of the figure title"
   ]
  },
  {
   "cell_type": "code",
   "execution_count": 5,
   "metadata": {},
   "outputs": [
    {
     "name": "stdout",
     "output_type": "stream",
     "text": [
      "File downloaded successfully!\n",
      "File downloaded successfully!\n",
      "File downloaded successfully!\n"
     ]
    }
   ],
   "source": [
    "def download_to_disk(url, filepath):\n",
    "    response = requests.get(url)\n",
    "    if response.status_code == 200:\n",
    "        with open(filepath, 'wb') as file:\n",
    "            file.write(response.content)\n",
    "        print('File downloaded successfully!')\n",
    "    else:\n",
    "        print(f'Failed to download the file. Status code: {response.status_code}')\n",
    "\n",
    "#\n",
    "data_busemeyer_url = 'https://osf.io/download/5vws6/'  # DataBusemeyerNoNA.rdata on https://osf.io/f9cq4/; contains IGT data\n",
    "data_busemeyer_file = 'DataBusemeyerNoNA.rdata'\n",
    "\n",
    "data_steingroever_url = 'https://osf.io/download/bmnsv/'  # contains Steingroever's importance sampling marginal likelihoods\n",
    "data_steingroever_file = 'DataSteingroever.rdata'\n",
    "\n",
    "lml_url = 'https://osf.io/download/txnbs/' # ind_LogMargLik.txt on https://osf.io/f9cq4/; contains Gronau's bridge sampling estmates\n",
    "lml_file = 'ind_LogMargLik.txt'\n",
    "\n",
    "download_to_disk(data_busemeyer_url, data_busemeyer_file)\n",
    "download_to_disk(data_steingroever_url, data_steingroever_file)\n",
    "download_to_disk(lml_url, lml_file)"
   ]
  },
  {
   "cell_type": "code",
   "execution_count": 6,
   "metadata": {},
   "outputs": [
    {
     "name": "stdout",
     "output_type": "stream",
     "text": [
      "(30, 100)\n",
      "(30, 100)\n",
      "(30, 100)\n"
     ]
    }
   ],
   "source": [
    "data_file = pr.read_r('DataBusemeyerNoNA.rdata')\n",
    "choices = jnp.asarray(data_file['choice'].to_numpy().astype(int)) - 1  # Python zero-indexing\n",
    "losses = jnp.asarray(data_file['lo'].to_numpy())\n",
    "wins = jnp.asarray(data_file['wi'].to_numpy())\n",
    "\n",
    "N, T = choices.shape\n",
    "K = 4\n",
    "\n",
    "print(wins.shape)\n",
    "print(losses.shape)\n",
    "print(choices.shape)"
   ]
  },
  {
   "cell_type": "code",
   "execution_count": 7,
   "metadata": {},
   "outputs": [],
   "source": [
    "def ev_link_fn(w, a, c_raw, choices, wins, losses):\n",
    "    c = 4*c_raw - 2.0\n",
    "    ev = jnp.zeros((K, ))\n",
    "    logits = jnp.ones((T, K))  # softmax of uniform is = [1/K, 1/K, ...]\n",
    "\n",
    "    def for_body(t, carry):\n",
    "        ev_, logits_ = carry\n",
    "        theta = (0.1*(t+1))**c  \n",
    "        current_utility = (1-w) * wins[t] + w*losses[t]\n",
    "        k = choices[t]\n",
    "        ev_ = ev_.at[k].add(a * (current_utility - ev_[k]))\n",
    "        logits_ = logits_.at[t + 1, :].set(theta * ev_)\n",
    "        return (ev_, logits_)\n",
    "    \n",
    "    #\n",
    "    _, logits = jax.lax.fori_loop(0, T - 1, for_body, (ev, logits))\n",
    "\n",
    "    return dict(logits=logits)\n",
    "\n",
    "#\n",
    "def make_ev_model(subject):\n",
    "    EVModel = Model(f'Expectance valence model, subject {subject}')\n",
    "    w_node = EVModel.add_node('w', distribution=dist.Beta(concentration0=1.0, concentration1=1.0))\n",
    "    a_node = EVModel.add_node('a', distribution=dist.Beta(concentration0=1.0, concentration1=1.0))\n",
    "    c_raw_node = EVModel.add_node('c_raw', distribution=dist.Beta(concentration0=1.0, concentration1=1.0))\n",
    "    wins_node = EVModel.add_node('wins', observations=wins[subject, :])\n",
    "    loss_node = EVModel.add_node('losses', observations=losses[subject, :])\n",
    "\n",
    "    # Note that in RL examples we often have a form of autoregression. Here, `choices` are observed, but also feed back into the model.\n",
    "    choice_node = EVModel.add_node('choices', \n",
    "                                observations=choices[subject, :], \n",
    "                                distribution=dist.Categorical, \n",
    "                                link_fn=ev_link_fn, \n",
    "                                parents=dict(w=w_node, \n",
    "                                                a=a_node, \n",
    "                                                c_raw=c_raw_node, \n",
    "                                                choices=choices[subject,:], \n",
    "                                                wins=wins_node, \n",
    "                                                losses=loss_node))\n",
    "    return EVModel\n",
    "\n",
    "#"
   ]
  },
  {
   "cell_type": "code",
   "execution_count": 8,
   "metadata": {},
   "outputs": [
    {
     "name": "stdout",
     "output_type": "stream",
     "text": [
      "[-130.03556226 -104.40581398 -115.06127935 -117.60266363 -104.48899586\n",
      " -136.54751469 -137.8908035  -129.53342946 -141.56332332  -89.63816541\n",
      " -133.29668074 -140.60001796 -140.47908746 -133.2048368  -133.19205411\n",
      " -137.01778161 -136.00015221 -110.11334112 -106.48068459 -141.45405395\n",
      " -140.84716053 -110.07332581 -118.75392064 -138.50226364 -131.38050246\n",
      " -122.16403572 -124.97997841 -140.834121   -137.98599751 -128.57581418]\n",
      "CPU times: user 35.7 s, sys: 8.73 s, total: 44.5 s\n",
      "Wall time: 40.6 s\n"
     ]
    }
   ],
   "source": [
    "%%time\n",
    "def wrapper(key, subject):\n",
    "    evmodel = make_ev_model(subject=subject)\n",
    "    mcmc_params = dict(sigma=stepsize*jnp.eye(evmodel.get_model_size()))\n",
    "    mcmc = mcmc_sampler(evmodel, mcmc_kernel=normal_random_walk, mcmc_parameters=mcmc_params)\n",
    "    engine = SMCInference(model=evmodel, mcmc_kernel=mcmc, num_particles=num_particles, num_mutations=num_mcmc_steps, num_chains=num_chains)\n",
    "    result = engine.run(key)\n",
    "    return result['lml']\n",
    "\n",
    "#\n",
    "num_chains = 1\n",
    "num_mcmc_steps = 100\n",
    "num_particles = 1000\n",
    "stepsize = 0.01\n",
    "\n",
    "subjects = jnp.arange(N)\n",
    "key = jrnd.PRNGKey(42)\n",
    "keys = jrnd.split(key, N)\n",
    "lml_scores = jax.vmap(wrapper)(keys, subjects)\n",
    "\n",
    "print(lml_scores)"
   ]
  },
  {
   "cell_type": "code",
   "execution_count": 9,
   "metadata": {},
   "outputs": [
    {
     "name": "stdout",
     "output_type": "stream",
     "text": [
      "Correlation between SMC and Importance sampling is 1.000\n",
      "Correlation between SMC and Bridge sampling is 1.000\n"
     ]
    },
    {
     "data": {
      "image/png": "[encoded data removed]",
      "text/plain": [
       "<Figure size 1200x300 with 2 Axes>"
      ]
     },
     "metadata": {},
     "output_type": "display_data"
    }
   ],
   "source": [
    "from pathlib import Path\n",
    "\n",
    "lims = [-145, -85]\n",
    "bs_lmls_file = open(f'ind_LogMargLik.txt')\n",
    "lines = bs_lmls_file.readlines()\n",
    "bs_lmls = jnp.array([float(line.split()[1]) for line in lines[1:]])\n",
    "\n",
    "is_lmls_file = pr.read_r(os.path.join(Path(os.getcwd()).parents[0], 'cognitive_models/DataSteingroever.rdata'))\n",
    "is_lmls = jnp.squeeze(jnp.log(pr.read_r(f'/scratch/big/home/maxhin/Documents/Code/SMC tutorial/EV/data/margLike_SteingroeverEtAl2016_importance_sampling.Rdata')['marg.like'].to_numpy()))\n",
    "\n",
    "baselines = [is_lmls, bs_lmls]\n",
    "\n",
    "baseline_names = ['Importance sampling', 'Bridge sampling']\n",
    "\n",
    "_, axes = plt.subplots(nrows=1, ncols=2, sharex=True, sharey=True, constrained_layout=True, figsize=(12, 3))\n",
    "for i, (baseline, name, ax) in enumerate(zip(baselines, baseline_names, axes)):\n",
    "    print(f'Correlation between SMC and {name} is {jnp.corrcoef(lml_scores, baseline)[0, 1]:0.3f}')\n",
    "    ax.scatter(lml_scores, baseline, c='lightcoral', edgecolors='k', s=64, zorder=10)\n",
    "    ax.plot(lims, lims, ls='--', c='k', lw=1, zorder=5)\n",
    "    ax.set_xlabel('Sequential Monte Carlo')\n",
    "    ax.set_xlim(lims)\n",
    "    ax.set_ylim(lims)\n",
    "    ax.set_ylabel(name)\n",
    "\n",
    "plt.savefig(f'/home/maxhin/Documents/Code/SMC tutorial/Review1 results/individual_lml_scores_figure.pdf', \n",
    "            bbox_inches='tight', pad_inches=0.0)"
   ]
  },
  {
   "cell_type": "markdown",
   "metadata": {},
   "source": [
    "## The hierarchical expectance valence model\n",
    "\n",
    "Todo: how do we do the `NormalCDF` transform in Numpyro?"
   ]
  },
  {
   "cell_type": "code",
   "execution_count": null,
   "metadata": {},
   "outputs": [
    {
     "name": "stdout",
     "output_type": "stream",
     "text": [
      "Gibbs structure:\n",
      "mu_w                : p(w | mu_w, sigma_w) p(mu_w)\n",
      "sigma_w             : p(w | mu_w, sigma_w) p(sigma_w)\n",
      "w                   : p(choices | a, w, c, choices_choices, wins, losses) p(w | mu_w, sigma_w)\n",
      "mu_a                : p(a | sigma_a, mu_a) p(mu_a)\n",
      "sigma_a             : p(a | sigma_a, mu_a) p(sigma_a)\n",
      "a                   : p(choices | a, w, c, choices_choices, wins, losses) p(a | sigma_a, mu_a)\n",
      "mu_c                : p(c | sigma_c, mu_c) p(mu_c)\n",
      "sigma_c             : p(c | sigma_c, mu_c) p(sigma_c)\n",
      "c                   : p(choices | a, w, c, choices_choices, wins, losses) p(c | sigma_c, mu_c)\n"
     ]
    }
   ],
   "source": [
    "def hev_link_fn(w, a, c, choices, wins, losses):\n",
    "    \"\"\"\n",
    "    This function was optimized from a previous implementation by ChatGPT-o1\n",
    "    \"\"\"\n",
    "    c = 4*c - 2.0\n",
    "    ev0 = jnp.zeros((N, K))\n",
    "    row_inds = jnp.arange(N)\n",
    "    init_logit = jnp.ones((N, K))  # shape (N, K) for time t=0\n",
    "\n",
    "    def scan_step(carry, t):\n",
    "        ev_ = carry\n",
    "        current_utility = (1 - w) * wins[:, t] + w * losses[:, t]\n",
    "        chosen_decks_ev = ev_.at[row_inds, choices[:, t]]\n",
    "        ev_updated = ev_.at[row_inds, choices[:, t]].set(\n",
    "            chosen_decks_ev.get() + a * (current_utility - chosen_decks_ev.get())\n",
    "        )\n",
    "        theta = (0.1 * (t + 1)) ** c\n",
    "        logits_tplus1 = theta[:, None] * ev_updated\n",
    "        return ev_updated, logits_tplus1\n",
    "    \n",
    "    #\n",
    "    carry_init = ev0\n",
    "\n",
    "    _, logits_seq = jax.lax.scan(scan_step, carry_init, jnp.arange(T-1))\n",
    "\n",
    "    logits_full = jnp.concatenate([init_logit[None], logits_seq], axis=0)  \n",
    "    logits_full = jnp.swapaxes(logits_full, 0, 1)  \n",
    "\n",
    "    return dict(logits=logits_full)\n",
    "\n",
    "#\n",
    "\n",
    "HEVModel = Model(f'Hierarchical expectance valence model')\n",
    "mu_w_node = HEVModel.add_node('mu_w', dist.Normal(loc=0.0, scale=1.0))\n",
    "mu_a_node = HEVModel.add_node('mu_a', dist.Normal(loc=0.0, scale=1.0))\n",
    "mu_c_node = HEVModel.add_node('mu_c', dist.Normal(loc=0.0, scale=1.0))\n",
    "\n",
    "sigma_w_node = HEVModel.add_node('sigma_w', dist.Uniform(low=0.0, high=1.5))\n",
    "sigma_a_node = HEVModel.add_node('sigma_a', dist.Uniform(low=0.0, high=1.5))\n",
    "sigma_c_node = HEVModel.add_node('sigma_c', dist.Uniform(low=0.0, high=1.5))\n",
    "\n",
    "w_node = HEVModel.add_node('w', distribution=dist.Normal, parents=dict(loc=mu_w_node, scale=sigma_w_node), shape=(N, ), bijector=nprb.)\n",
    "a_node = HEVModel.add_node('a', distribution=dx.Normal, parents=dict(loc=mu_a_node, scale=sigma_a_node), shape=(N, ), bijector=tfb.NormalCDF())\n",
    "c_node = HEVModel.add_node('c', distribution=dx.Normal, parents=dict(loc=mu_c_node, scale=sigma_c_node), shape=(N, ), bijector=tfb.NormalCDF())\n",
    "\n",
    "wins_node = HEVModel.add_node('wins', observations=wins)\n",
    "loss_node = HEVModel.add_node('losses', observations=losses)\n",
    "\n",
    "choice_node = HEVModel.add_node('choices', \n",
    "                                observations=choices, \n",
    "                                distribution=dx.Categorical, \n",
    "                                link_fn=hev_link_fn, \n",
    "                                parents=dict(w=w_node, \n",
    "                                             a=a_node, \n",
    "                                             c=c_node, \n",
    "                                             choices=choices,\n",
    "                                             wins=wins_node, \n",
    "                                             losses=loss_node))\n",
    "\n",
    "HEVModel.print_gibbs()"
   ]
  },
  {
   "cell_type": "code",
   "execution_count": null,
   "metadata": {},
   "outputs": [],
   "source": [
    "%%time\n",
    "key = jrnd.PRNGKey(1234)\n",
    "\n",
    "num_chains = 1\n",
    "num_mcmc_steps = 200\n",
    "num_particles = 2000\n",
    "\n",
    "# adaptively determining stepsizes is an important upcoming feature!\n",
    "step_fns = dict(mu_w=normal_random_walk, \n",
    "                mu_a=normal_random_walk, \n",
    "                mu_c=normal_random_walk, \n",
    "                w=normal_random_walk, \n",
    "                a=normal_random_walk, \n",
    "                c=normal_random_walk,\n",
    "                sigma_w=normal_random_walk,\n",
    "                sigma_a=normal_random_walk,\n",
    "                sigma_c=normal_random_walk)\n",
    "step_fn_params = dict(mu_w=dict(sigma=0.5), \n",
    "                      mu_a=dict(sigma=0.5), \n",
    "                      mu_c=dict(sigma=0.5), \n",
    "                      w=dict(sigma=0.005), \n",
    "                      a=dict(sigma=0.005), \n",
    "                      c=dict(sigma=0.005),\n",
    "                      sigma_w=dict(sigma=0.2),\n",
    "                      sigma_a=dict(sigma=0.2),\n",
    "                      sigma_c=dict(sigma=0.2))\n",
    "\n",
    "gibbs = gibbs_sampler(HEVModel, step_fns=step_fns, step_fn_params=step_fn_params)\n",
    "\n",
    "engine = SMCInference(model=HEVModel, mcmc_kernel=gibbs, num_particles=num_particles, num_mutations=num_mcmc_steps, num_chains=num_chains)\n",
    "result = engine.run(key)\n",
    "\n",
    "final_state = result['final_state']\n",
    "lml = result['lml']\n",
    "final_info = result['final_info']\n",
    "num_adapt = result['n_iter']\n",
    "\n",
    "print('Log marginal likelihood:', lml)\n",
    "for var in step_fns.keys():\n",
    "    print(f'Acceptance rate {var}: {jnp.mean(final_info.update_info[var].is_accepted)}')"
   ]
  },
  {
   "cell_type": "markdown",
   "metadata": {},
   "source": [
    "Note: as discussed in [Hinne, 2024](https://osf.io/preprints/psyarxiv/swjtu_v2), to get a reliable LML estimate, one needs to sample for much longer, but the posterior is already approximated well."
   ]
  },
  {
   "cell_type": "markdown",
   "metadata": {},
   "source": [
    "Visualize posterior"
   ]
  },
  {
   "cell_type": "code",
   "execution_count": 10,
   "metadata": {},
   "outputs": [
    {
     "ename": "NameError",
     "evalue": "name 'final_state' is not defined",
     "output_type": "error",
     "traceback": [
      "\u001b[0;31m---------------------------------------------------------------------------\u001b[0m",
      "\u001b[0;31mNameError\u001b[0m                                 Traceback (most recent call last)",
      "Cell \u001b[0;32mIn[10], line 9\u001b[0m\n\u001b[1;32m      6\u001b[0m res \u001b[38;5;241m=\u001b[39m \u001b[38;5;241m300\u001b[39m\n\u001b[1;32m      8\u001b[0m \u001b[38;5;28;01mfor\u001b[39;00m ax, v, limit, name \u001b[38;5;129;01min\u001b[39;00m \u001b[38;5;28mzip\u001b[39m(axes[\u001b[38;5;241m0\u001b[39m, :], [\u001b[38;5;124m'\u001b[39m\u001b[38;5;124mw\u001b[39m\u001b[38;5;124m'\u001b[39m, \u001b[38;5;124m'\u001b[39m\u001b[38;5;124ma\u001b[39m\u001b[38;5;124m'\u001b[39m, \u001b[38;5;124m'\u001b[39m\u001b[38;5;124mc\u001b[39m\u001b[38;5;124m'\u001b[39m], limits, names):\n\u001b[0;32m----> 9\u001b[0m     samples \u001b[38;5;241m=\u001b[39m \u001b[43mfinal_state\u001b[49m\u001b[38;5;241m.\u001b[39mparticles[\u001b[38;5;124mf\u001b[39m\u001b[38;5;124m'\u001b[39m\u001b[38;5;124mmu_\u001b[39m\u001b[38;5;132;01m{\u001b[39;00mv\u001b[38;5;132;01m}\u001b[39;00m\u001b[38;5;124m'\u001b[39m]\u001b[38;5;241m.\u001b[39mflatten()\n\u001b[1;32m     10\u001b[0m     pdf \u001b[38;5;241m=\u001b[39m gaussian_kde(samples)\n\u001b[1;32m     11\u001b[0m     input_range \u001b[38;5;241m=\u001b[39m jnp\u001b[38;5;241m.\u001b[39mlinspace(\u001b[38;5;241m*\u001b[39mlimit, num\u001b[38;5;241m=\u001b[39mres)\n",
      "\u001b[0;31mNameError\u001b[0m: name 'final_state' is not defined"
     ]
    },
    {
     "data": {
      "image/png": "[encoded data removed]",
      "text/plain": [
       "<Figure size 1800x600 with 6 Axes>"
      ]
     },
     "metadata": {},
     "output_type": "display_data"
    }
   ],
   "source": [
    "from jax.scipy.stats import gaussian_kde\n",
    "\n",
    "_, axes = plt.subplots(nrows=2, ncols=3, figsize=(18, 6), constrained_layout=True)\n",
    "limits = [[-2, 0.5], [-2.5, 0.5], [-0.5, 1]]\n",
    "names = [r'$\\mu_w$', r'$\\mu_\\alpha$', r'$\\mu_c$']\n",
    "res = 300\n",
    "\n",
    "for ax, v, limit, name in zip(axes[0, :], ['w', 'a', 'c'], limits, names):\n",
    "    samples = final_state.particles[f'mu_{v}'].flatten()\n",
    "    pdf = gaussian_kde(samples)\n",
    "    input_range = jnp.linspace(*limit, num=res)\n",
    "    ax.plot(input_range, pdf(input_range), lw=1, color='k')\n",
    "    ax.set_xlim(limit)\n",
    "    ax.set_ylim(bottom=0)\n",
    "    ax.set_xlabel(name)\n",
    "    for spine in ['top', 'right']:\n",
    "        ax.spines[spine].set_visible(False)\n",
    "\n",
    "limits = [[0.0, 1.5], [0.0, 1.5], [0.0, 1.5]]\n",
    "names = [r'$\\sigma_w$', r'$\\sigma_\\alpha$', r'$\\sigma_c$']\n",
    "\n",
    "for ax, v, limit, name in zip(axes[1, :], ['w', 'a', 'c'], limits, names):\n",
    "    samples = final_state.particles[f'sigma_{v}'].flatten()\n",
    "    pdf = gaussian_kde(samples)\n",
    "    input_range = jnp.linspace(*limit, num=res)\n",
    "    ax.plot(input_range, pdf(input_range), lw=1, color='k')\n",
    "    ax.set_xlim(limit)\n",
    "    ax.set_ylim(bottom=0)\n",
    "    ax.set_xlabel(name)\n",
    "\n",
    "for ax in axes.flatten():\n",
    "    for spine in ['top', 'right']:\n",
    "        ax.spines[spine].set_visible(False)\n",
    "for ax in axes[:, 0]:\n",
    "    ax.set_ylabel('Density');"
   ]
  }
 ],
 "metadata": {
  "kernelspec": {
   "display_name": "bamojax_numpyro",
   "language": "python",
   "name": "python3"
  },
  "language_info": {
   "codemirror_mode": {
    "name": "ipython",
    "version": 3
   },
   "file_extension": ".py",
   "mimetype": "text/x-python",
   "name": "python",
   "nbconvert_exporter": "python",
   "pygments_lexer": "ipython3",
   "version": "3.11.13"
  }
 },
 "nbformat": 4,
 "nbformat_minor": 2
}
