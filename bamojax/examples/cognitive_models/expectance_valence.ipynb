{
 "cells": [
  {
   "cell_type": "markdown",
   "metadata": {},
   "source": [
    "# Evidence estimation in a Bayesian cognitive model\n"
   ]
  },
  {
   "cell_type": "code",
   "execution_count": 1,
   "metadata": {},
   "outputs": [
    {
     "name": "stdout",
     "output_type": "stream",
     "text": [
      "Setting CUDA visible devices to [4]\n"
     ]
    }
   ],
   "source": [
    "%load_ext autoreload\n",
    "%autoreload 2\n",
    "\n",
    "import os\n",
    "\n",
    "# For JAX, we can use CPU (set SELECTED_DEVICE to empty (''), or one of the available GPUs)\n",
    "SELECTED_DEVICE = '4'\n",
    "print(f'Setting CUDA visible devices to [{SELECTED_DEVICE}]')\n",
    "os.environ['CUDA_VISIBLE_DEVICES'] = f'{SELECTED_DEVICE}'"
   ]
  },
  {
   "cell_type": "code",
   "execution_count": 2,
   "metadata": {},
   "outputs": [
    {
     "name": "stdout",
     "output_type": "stream",
     "text": [
      "Python version:        3.10.15 (main, Oct  3 2024, 07:27:34) [GCC 11.2.0]\n",
      "Jax version:           0.4.35\n",
      "BlackJax version:      1.2.4\n",
      "Distrax version:       0.1.5\n",
      "BaMoJax version:       0.0.1\n",
      "Jax default backend:   gpu\n",
      "Jax devices:           [CudaDevice(id=0)]\n"
     ]
    }
   ],
   "source": [
    "import matplotlib.pyplot as plt\n",
    "import matplotlib.patches as mpatches\n",
    "\n",
    "import jax\n",
    "jax.config.update(\"jax_enable_x64\", True)  # Do we need this here? -> it seems we do for the LML computations (otherwise NaNs get introduced), but not for performance\n",
    "\n",
    "import jax.random as jrnd\n",
    "import jax.numpy as jnp\n",
    "import distrax as dx\n",
    "import blackjax\n",
    "import pandas as pd\n",
    "import jax.scipy.special as jsp\n",
    "\n",
    "from tensorflow_probability.substrates import jax as tfp\n",
    "tfd = tfp.distributions\n",
    "tfb = tfp.bijectors\n",
    "import pyreadr as pr\n",
    "\n",
    "from distrax._src.distributions.distribution import Distribution\n",
    "\n",
    "import os\n",
    "import sys\n",
    "import requests\n",
    "\n",
    "from blackjax import normal_random_walk\n",
    "\n",
    "sys.path.append(os.path.abspath(os.path.join(os.getcwd(), '../../../')))\n",
    "\n",
    "import bamojax\n",
    "from bamojax.base import Node, Model\n",
    "from bamojax.sampling import gibbs_sampler, smc_inference_loop, mcmc_sampler\n",
    "\n",
    "print('Python version:       ', sys.version)\n",
    "print('Jax version:          ', jax.__version__)\n",
    "print('BlackJax version:     ', blackjax.__version__)\n",
    "print('Distrax version:      ', dx.__version__)\n",
    "print('BaMoJax version:      ', bamojax.__version__)\n",
    "print('Jax default backend:  ', jax.default_backend())\n",
    "print('Jax devices:          ', jax.devices())\n",
    "\n",
    "SMALL_SIZE = 14\n",
    "MEDIUM_SIZE = 16\n",
    "LARGE_SIZE = 22\n",
    "\n",
    "plt.rc('font', size=SMALL_SIZE)          # controls default text sizes\n",
    "plt.rc('axes', titlesize=LARGE_SIZE)     # fontsize of the axes title\n",
    "plt.rc('axes', labelsize=MEDIUM_SIZE)    # fontsize of the x and y labels\n",
    "plt.rc('xtick', labelsize=SMALL_SIZE)    # fontsize of the tick labels\n",
    "plt.rc('ytick', labelsize=SMALL_SIZE)    # fontsize of the tick labels\n",
    "plt.rc('legend', fontsize=MEDIUM_SIZE)    # legend fontsize\n",
    "plt.rc('figure', titlesize=LARGE_SIZE)  # fontsize of the figure title"
   ]
  },
  {
   "cell_type": "code",
   "execution_count": 3,
   "metadata": {},
   "outputs": [
    {
     "name": "stdout",
     "output_type": "stream",
     "text": [
      "File downloaded successfully!\n",
      "File downloaded successfully!\n",
      "File downloaded successfully!\n"
     ]
    }
   ],
   "source": [
    "def download_to_disk(url, filepath):\n",
    "    response = requests.get(url)\n",
    "    if response.status_code == 200:\n",
    "        with open(filepath, 'wb') as file:\n",
    "            file.write(response.content)\n",
    "        print('File downloaded successfully!')\n",
    "    else:\n",
    "        print(f'Failed to download the file. Status code: {response.status_code}')\n",
    "\n",
    "#\n",
    "data_busemeyer_url = 'https://osf.io/download/5vws6/'  # DataBusemeyerNoNA.rdata on https://osf.io/f9cq4/; contains IGT data\n",
    "data_busemeyer_file = 'DataBusemeyerNoNA.rdata'\n",
    "\n",
    "data_steingroever_url = 'https://osf.io/download/bmnsv/'  # contains Steingroever's importance sampling marginal likelihoods\n",
    "data_steingroever_file = 'DataSteingroever.rdata'\n",
    "\n",
    "lml_url = 'https://osf.io/download/txnbs/' # ind_LogMargLik.txt on https://osf.io/f9cq4/; contains Gronau's bridge sampling estmates\n",
    "lml_file = 'ind_LogMargLik.txt'\n",
    "\n",
    "download_to_disk(data_busemeyer_url, data_busemeyer_file)\n",
    "download_to_disk(data_steingroever_url, data_steingroever_file)\n",
    "download_to_disk(lml_url, lml_file)"
   ]
  },
  {
   "cell_type": "code",
   "execution_count": 4,
   "metadata": {},
   "outputs": [
    {
     "name": "stdout",
     "output_type": "stream",
     "text": [
      "(30, 100)\n",
      "(30, 100)\n",
      "(30, 100)\n"
     ]
    }
   ],
   "source": [
    "data_file = pr.read_r('DataBusemeyerNoNA.rdata')\n",
    "choices = jnp.asarray(data_file['choice'].to_numpy().astype(int)) - 1  # Python zero-indexing\n",
    "losses = jnp.asarray(data_file['lo'].to_numpy())\n",
    "wins = jnp.asarray(data_file['wi'].to_numpy())\n",
    "\n",
    "N, T = choices.shape\n",
    "K = 4\n",
    "\n",
    "print(wins.shape)\n",
    "print(losses.shape)\n",
    "print(choices.shape)"
   ]
  },
  {
   "cell_type": "markdown",
   "metadata": {},
   "source": [
    "Discrepancy with LML\n",
    "\n",
    "We are not matching this correctly. Note that the paper probably starts at $t=1$"
   ]
  },
  {
   "cell_type": "code",
   "execution_count": 5,
   "metadata": {},
   "outputs": [],
   "source": [
    "def ev_link_fn(w, a, c_raw, choices, wins, losses):\n",
    "    c = 4*c_raw - 2.0\n",
    "    ev = jnp.zeros((K, ))\n",
    "    logits = jnp.ones((T, K))  # softmax of uniform is = [1/K, 1/K, ...]\n",
    "\n",
    "    def for_body(t, carry):\n",
    "        ev_, logits_ = carry\n",
    "        theta = (0.1*(t+1))**c  \n",
    "        current_utility = (1-w) * wins[t] + w*losses[t]\n",
    "        k = choices[t]\n",
    "        ev_ = ev_.at[k].add(a * (current_utility - ev_[k]))\n",
    "        logits_ = logits_.at[t + 1, :].set(theta * ev_)\n",
    "        return (ev_, logits_)\n",
    "    \n",
    "    #\n",
    "    _, logits = jax.lax.fori_loop(0, T - 1, for_body, (ev, logits))\n",
    "\n",
    "    return dict(logits=logits)\n",
    "\n",
    "#\n",
    "def make_ev_model(subject):\n",
    "    EVModel = Model(f'Expectance valence model, subject {subject}')\n",
    "    w_node = EVModel.add_node('w', distribution=dx.Beta(alpha=1.0, beta=1.0))\n",
    "    a_node = EVModel.add_node('a', distribution=dx.Beta(alpha=1.0, beta=1.0))\n",
    "    c_raw_node = EVModel.add_node('c_raw', distribution=dx.Beta(alpha=1.0, beta=1.0))\n",
    "    wins_node = EVModel.add_node('wins', observations=wins[subject, :])\n",
    "    loss_node = EVModel.add_node('losses', observations=losses[subject, :])\n",
    "\n",
    "    # Note that in RL examples we often have a form of autoregression. Here, `choices` are observed, but also feed back into the model.\n",
    "    choice_node = EVModel.add_node('choices', \n",
    "                                observations=choices[subject, :], \n",
    "                                distribution=dx.Categorical, \n",
    "                                link_fn=ev_link_fn, \n",
    "                                parents=dict(w=w_node, \n",
    "                                                a=a_node, \n",
    "                                                c_raw=c_raw_node, \n",
    "                                                choices=choices[subject,:], \n",
    "                                                wins=wins_node, \n",
    "                                                losses=loss_node))\n",
    "    return EVModel\n",
    "\n",
    "#"
   ]
  },
  {
   "cell_type": "code",
   "execution_count": null,
   "metadata": {},
   "outputs": [
    {
     "name": "stdout",
     "output_type": "stream",
     "text": [
      "[-130.05606422 -104.304702   -115.01661459 -117.6102349  -104.62734226\n",
      " -136.5219389  -137.80943144 -129.57020252 -141.53107173  -89.60655731\n",
      " -133.20964921 -140.63396312 -140.39241233 -133.01253722 -132.98674801\n",
      " -136.9590195  -135.94740832 -110.14573532 -106.32182309 -141.43004044\n",
      " -140.86481362 -109.79922414 -118.83133881 -138.42908037 -131.53498574\n",
      " -122.10016868 -125.43281934 -140.85642584 -137.79392749 -128.57361509]\n",
      "CPU times: user 40.8 s, sys: 16.9 s, total: 57.7 s\n",
      "Wall time: 53.7 s\n"
     ]
    }
   ],
   "source": [
    "%%time\n",
    "def wrapper(key, subject):\n",
    "    evmodel = make_ev_model(subject=subject)\n",
    "    mcmc_params = dict(sigma=stepsize*jnp.eye(evmodel.get_model_size()))\n",
    "    mcmc = mcmc_sampler(evmodel, mcmc_kernel=normal_random_walk, mcmc_parameters=mcmc_params)\n",
    "    _, lml, _, _ = smc_inference_loop(key, model=evmodel, kernel=mcmc, num_particles=num_particles, num_mcmc_steps=num_mcmc_steps, num_chains=num_chains)\n",
    "    return lml\n",
    "\n",
    "#\n",
    "num_chains = 1\n",
    "num_mcmc_steps = 100\n",
    "num_particles = 1000\n",
    "stepsize = 0.01\n",
    "\n",
    "subjects = jnp.arange(N)\n",
    "key = jrnd.PRNGKey(42)\n",
    "keys = jrnd.split(key, N)\n",
    "lml_scores = jax.vmap(wrapper)(keys, subjects)\n",
    "print(lml_scores)"
   ]
  },
  {
   "cell_type": "code",
   "execution_count": 7,
   "metadata": {},
   "outputs": [
    {
     "name": "stdout",
     "output_type": "stream",
     "text": [
      "Correlation between SMC and Importance sampling is 1.000\n",
      "Correlation between SMC and Bridge sampling is 1.000\n"
     ]
    },
    {
     "data": {
      "image/png": "[encoded data removed]",
      "text/plain": [
       "<Figure size 1200x300 with 2 Axes>"
      ]
     },
     "metadata": {},
     "output_type": "display_data"
    }
   ],
   "source": [
    "from pathlib import Path\n",
    "\n",
    "lims = [-145, -85]\n",
    "bs_lmls_file = open(f'ind_LogMargLik.txt')\n",
    "lines = bs_lmls_file.readlines()\n",
    "bs_lmls = jnp.array([float(line.split()[1]) for line in lines[1:]])\n",
    "\n",
    "is_lmls_file = pr.read_r(os.path.join(Path(os.getcwd()).parents[0], 'cognitive_models/DataSteingroever.rdata'))\n",
    "is_lmls = jnp.squeeze(jnp.log(pr.read_r(f'/scratch/big/home/maxhin/Documents/Code/SMC tutorial/EV/data/margLike_SteingroeverEtAl2016_importance_sampling.Rdata')['marg.like'].to_numpy()))\n",
    "\n",
    "baselines = [is_lmls, bs_lmls]\n",
    "\n",
    "baseline_names = ['Importance sampling', 'Bridge sampling']\n",
    "\n",
    "_, axes = plt.subplots(nrows=1, ncols=2, sharex=True, sharey=True, constrained_layout=True, figsize=(12, 3))\n",
    "for i, (baseline, name, ax) in enumerate(zip(baselines, baseline_names, axes)):\n",
    "    print(f'Correlation between SMC and {name} is {jnp.corrcoef(lml_scores, baseline)[0, 1]:0.3f}')\n",
    "    ax.scatter(lml_scores, baseline, c='lightcoral', edgecolors='k', s=64, zorder=10)\n",
    "    ax.plot(lims, lims, ls='--', c='k', lw=1, zorder=5)\n",
    "    ax.set_xlabel('Sequential Monte Carlo')\n",
    "    ax.set_xlim(lims)\n",
    "    ax.set_ylim(lims)\n",
    "    ax.set_ylabel(name)"
   ]
  },
  {
   "cell_type": "markdown",
   "metadata": {},
   "source": [
    "## The hierarchical expectance valence model"
   ]
  },
  {
   "cell_type": "code",
   "execution_count": 5,
   "metadata": {},
   "outputs": [
    {
     "name": "stdout",
     "output_type": "stream",
     "text": [
      "Gibbs structure:\n",
      "mu_w                : p(w_unlinked | sigma_w, mu_w) p(mu_w)\n",
      "sigma_w             : p(w_unlinked | sigma_w, mu_w) p(sigma_w)\n",
      "w_unlinked          : p(choices | c_unlinked, choices_choices, losses, w_unlinked, a_unlinked, wins) p(w_unlinked | sigma_w, mu_w)\n",
      "mu_a                : p(a_unlinked | mu_a, sigma_a) p(mu_a)\n",
      "sigma_a             : p(a_unlinked | mu_a, sigma_a) p(sigma_a)\n",
      "a_unlinked          : p(choices | c_unlinked, choices_choices, losses, w_unlinked, a_unlinked, wins) p(a_unlinked | mu_a, sigma_a)\n",
      "mu_c                : p(c_unlinked | mu_c, sigma_c) p(mu_c)\n",
      "sigma_c             : p(c_unlinked | mu_c, sigma_c) p(sigma_c)\n",
      "c_unlinked          : p(choices | c_unlinked, choices_choices, losses, w_unlinked, a_unlinked, wins) p(c_unlinked | mu_c, sigma_c)\n"
     ]
    }
   ],
   "source": [
    "def hev_link_fn(w_unlinked, a_unlinked, c_unlinked, choices, wins, losses):\n",
    "    w = tfb.NormalCDF().forward(w_unlinked)\n",
    "    a = tfb.NormalCDF().forward(a_unlinked)\n",
    "    c = 4*tfb.NormalCDF().forward(c_unlinked) - 2.0\n",
    "    ev = jnp.zeros((N, K))\n",
    "    logits = jnp.ones((N, T, K))  # softmax of uniform is = [1/K, 1/K, ...]\n",
    "    row_inds = jnp.arange(N)\n",
    "\n",
    "    def for_body(t, carry):\n",
    "        ev_, logits_ = carry\n",
    "        theta = (0.1*(t+1))**c  \n",
    "        current_utility = (1-w) * wins[:, t] + w*losses[:, t]\n",
    "        k = choices[:, t]\n",
    "        ev_ = ev_.at[row_inds, k].add(a * (current_utility - ev_.at[row_inds, k].get()))\n",
    "        logits_ = logits_.at[row_inds, t + 1, :].set(theta[:, jnp.newaxis] * ev_)\n",
    "        return (ev_, logits_)\n",
    "    \n",
    "    #\n",
    "    _, logits = jax.lax.fori_loop(0, T - 1, for_body, (ev, logits))\n",
    "\n",
    "    return dict(logits=logits)\n",
    "\n",
    "#\n",
    "\n",
    "\n",
    "HEVModel = Model(f'Hierarchical expectance valence model')\n",
    "mu_w_node = HEVModel.add_node('mu_w', dx.Normal(loc=0.0, scale=1.0))\n",
    "mu_a_node = HEVModel.add_node('mu_a', dx.Normal(loc=0.0, scale=1.0))\n",
    "mu_c_node = HEVModel.add_node('mu_c', dx.Normal(loc=0.0, scale=1.0))\n",
    "\n",
    "sigma_w_node = HEVModel.add_node('sigma_w', dx.Uniform(low=0.0, high=1.5))\n",
    "sigma_a_node = HEVModel.add_node('sigma_a', dx.Uniform(low=0.0, high=1.5))\n",
    "sigma_c_node = HEVModel.add_node('sigma_c', dx.Uniform(low=0.0, high=1.5))\n",
    "\n",
    "w_node = HEVModel.add_node('w_unlinked', distribution=dx.Normal, parents=dict(loc=mu_w_node, scale=sigma_w_node), shape=(N, ))\n",
    "a_node = HEVModel.add_node('a_unlinked', distribution=dx.Normal, parents=dict(loc=mu_a_node, scale=sigma_a_node), shape=(N, ))\n",
    "c_node = HEVModel.add_node('c_unlinked', distribution=dx.Normal, parents=dict(loc=mu_c_node, scale=sigma_c_node), shape=(N, ))\n",
    "\n",
    "wins_node = HEVModel.add_node('wins', observations=wins)\n",
    "loss_node = HEVModel.add_node('losses', observations=losses)\n",
    "\n",
    "# # Note that in RL examples we often have a form of autoregression. Here, `choices` are observed, but also feed back into the model.\n",
    "choice_node = HEVModel.add_node('choices', \n",
    "                                observations=choices, \n",
    "                                distribution=dx.Categorical, \n",
    "                                link_fn=hev_link_fn, \n",
    "                                parents=dict(w_unlinked=w_node, \n",
    "                                             a_unlinked=a_node, \n",
    "                                             c_unlinked=c_node, \n",
    "                                             choices=choices,\n",
    "                                             wins=wins_node, \n",
    "                                             losses=loss_node))\n",
    "\n",
    "HEVModel.print_gibbs()"
   ]
  },
  {
   "cell_type": "code",
   "execution_count": null,
   "metadata": {},
   "outputs": [],
   "source": [
    "%%time\n",
    "key = jrnd.PRNGKey(42)\n",
    "num_chains = 1\n",
    "num_mcmc_steps = 5\n",
    "num_particles = 1000\n",
    "stepsize = 0.02\n",
    "\n",
    "mcmc_params = dict(sigma=stepsize*jnp.eye(HEVModel.get_model_size()))\n",
    "mcmc = mcmc_sampler(HEVModel, mcmc_kernel=normal_random_walk, mcmc_parameters=mcmc_params)\n",
    "final_state, lml, num_adapt, final_info = smc_inference_loop(key, model=HEVModel, kernel=mcmc, num_particles=num_particles, num_mcmc_steps=num_mcmc_steps, num_chains=num_chains)\n",
    "\n",
    "print(final_info.update_info)\n",
    "print(lml)"
   ]
  },
  {
   "cell_type": "markdown",
   "metadata": {},
   "source": [
    "Is the LML estimate better/quicker with Gibbs? "
   ]
  },
  {
   "cell_type": "code",
   "execution_count": null,
   "metadata": {},
   "outputs": [
    {
     "name": "stdout",
     "output_type": "stream",
     "text": [
      "Log marginal likelihood: -3803.9558479157995\n",
      "Acceptance rate mu_w: 0.7903199791908264\n",
      "Acceptance rate mu_a: 0.8460399508476257\n",
      "Acceptance rate mu_c: 0.7960699796676636\n",
      "Acceptance rate w_unlinked: 0.011529999785125256\n",
      "Acceptance rate a_unlinked: 0.12410999834537506\n",
      "Acceptance rate c_unlinked: 0.050370000302791595\n",
      "Acceptance rate sigma_w: 0.9640799760818481\n",
      "Acceptance rate sigma_a: 0.9758299589157104\n",
      "Acceptance rate sigma_c: 0.9666799902915955\n"
     ]
    }
   ],
   "source": [
    "key = jrnd.PRNGKey(1234)\n",
    "\n",
    "num_chains = 1\n",
    "num_mcmc_steps = 100\n",
    "num_particles = 1000\n",
    "\n",
    "step_fns = dict(mu_w=normal_random_walk, \n",
    "                mu_a=normal_random_walk, \n",
    "                mu_c=normal_random_walk, \n",
    "                w_unlinked=normal_random_walk, \n",
    "                a_unlinked=normal_random_walk, \n",
    "                c_unlinked=normal_random_walk,\n",
    "                sigma_w=normal_random_walk,\n",
    "                sigma_a=normal_random_walk,\n",
    "                sigma_c=normal_random_walk)\n",
    "step_fn_params = dict(mu_w=dict(sigma=0.3), \n",
    "                      mu_a=dict(sigma=0.3), \n",
    "                      mu_c=dict(sigma=0.3), \n",
    "                      w_unlinked=dict(sigma=0.01), \n",
    "                      a_unlinked=dict(sigma=0.05), \n",
    "                      c_unlinked=dict(sigma=0.01),\n",
    "                      sigma_w=dict(sigma=0.1),\n",
    "                      sigma_a=dict(sigma=0.1),\n",
    "                      sigma_c=dict(sigma=0.1))\n",
    "\n",
    "gibbs = gibbs_sampler(HEVModel, step_fns=step_fns, step_fn_params=step_fn_params)\n",
    "\n",
    "final_state, lml, num_adapt, final_info = smc_inference_loop(key, \n",
    "                                                             model=HEVModel, \n",
    "                                                             kernel=gibbs, \n",
    "                                                             num_particles=num_particles, \n",
    "                                                             num_mcmc_steps=num_mcmc_steps, \n",
    "                                                             num_chains=num_chains)\n",
    "\n",
    "print('Log marginal likelihood:', lml)\n",
    "for var in step_fns.keys():\n",
    "    print(f'Acceptance rate {var}: {jnp.mean(final_info.update_info[var].is_accepted)}')"
   ]
  },
  {
   "cell_type": "markdown",
   "metadata": {},
   "source": [
    "This is very slow, but the LML estimate is near that of 5K MCMC steps for RMW (-3803.96)."
   ]
  },
  {
   "cell_type": "code",
   "execution_count": 25,
   "metadata": {},
   "outputs": [
    {
     "data": {
      "image/png": "[encoded data removed]",
      "text/plain": [
       "<Figure size 600x600 with 1 Axes>"
      ]
     },
     "metadata": {},
     "output_type": "display_data"
    }
   ],
   "source": [
    "plt.figure(figsize=(6, 6))\n",
    "ax = plt.gca()\n",
    "ax.hist(final_state.particles['mu_a'], bins=30)\n",
    "ax.set_xlim([-2.5, 0.5])\n",
    "ax.set_xlabel(r'$\\mu_\\alpha$')\n",
    "ax.set_ylabel('Density');"
   ]
  }
 ],
 "metadata": {
  "kernelspec": {
   "display_name": "uicsdev_v2",
   "language": "python",
   "name": "python3"
  },
  "language_info": {
   "codemirror_mode": {
    "name": "ipython",
    "version": 3
   },
   "file_extension": ".py",
   "mimetype": "text/x-python",
   "name": "python",
   "nbconvert_exporter": "python",
   "pygments_lexer": "ipython3",
   "version": "3.10.15"
  }
 },
 "nbformat": 4,
 "nbformat_minor": 2
}
