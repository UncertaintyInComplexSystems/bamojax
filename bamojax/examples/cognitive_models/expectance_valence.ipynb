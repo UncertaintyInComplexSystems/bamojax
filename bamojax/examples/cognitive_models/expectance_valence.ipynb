{
 "cells": [
  {
   "cell_type": "markdown",
   "metadata": {},
   "source": [
    "# Evidence estimation in a Bayesian cognitive model\n"
   ]
  },
  {
   "cell_type": "code",
   "execution_count": 1,
   "metadata": {},
   "outputs": [
    {
     "name": "stdout",
     "output_type": "stream",
     "text": [
      "Setting CUDA visible devices to [0]\n"
     ]
    }
   ],
   "source": [
    "%load_ext autoreload\n",
    "%autoreload 2\n",
    "\n",
    "import os\n",
    "\n",
    "# For JAX, we can use CPU (set SELECTED_DEVICE to empty (''), or one of the available GPUs)\n",
    "SELECTED_DEVICE = '0'\n",
    "print(f'Setting CUDA visible devices to [{SELECTED_DEVICE}]')\n",
    "os.environ['CUDA_VISIBLE_DEVICES'] = f'{SELECTED_DEVICE}'"
   ]
  },
  {
   "cell_type": "code",
   "execution_count": 5,
   "metadata": {},
   "outputs": [
    {
     "name": "stdout",
     "output_type": "stream",
     "text": [
      "Python version:        3.10.15 (main, Oct  3 2024, 07:27:34) [GCC 11.2.0]\n",
      "Jax version:           0.4.35\n",
      "BlackJax version:      1.2.4\n",
      "Distrax version:       0.1.5\n",
      "BaMoJax version:       0.0.1\n",
      "Jax default backend:   gpu\n",
      "Jax devices:           [CudaDevice(id=0)]\n"
     ]
    }
   ],
   "source": [
    "import matplotlib.pyplot as plt\n",
    "import matplotlib.patches as mpatches\n",
    "\n",
    "import jax\n",
    "jax.config.update(\"jax_enable_x64\", True)  # Do we need this here? -> it seems we do for the LML computations (otherwise NaNs get introduced), but not for performance\n",
    "\n",
    "import jax.random as jrnd\n",
    "import jax.numpy as jnp\n",
    "import distrax as dx\n",
    "import blackjax\n",
    "import pandas as pd\n",
    "import jax.scipy.special as jsp\n",
    "\n",
    "from tensorflow_probability.substrates import jax as tfp\n",
    "tfd = tfp.distributions\n",
    "tfb = tfp.bijectors\n",
    "import pyreadr as pr\n",
    "\n",
    "from distrax._src.distributions.distribution import Distribution\n",
    "\n",
    "import os\n",
    "import sys\n",
    "import requests\n",
    "\n",
    "from blackjax import normal_random_walk\n",
    "\n",
    "sys.path.append(os.path.abspath(os.path.join(os.getcwd(), '../../../')))\n",
    "\n",
    "import bamojax\n",
    "from bamojax.base import Node, Model\n",
    "from bamojax.sampling import gibbs_sampler, inference_loop, run_chain, smc_inference_loop\n",
    "\n",
    "print('Python version:       ', sys.version)\n",
    "print('Jax version:          ', jax.__version__)\n",
    "print('BlackJax version:     ', blackjax.__version__)\n",
    "print('Distrax version:      ', dx.__version__)\n",
    "print('BaMoJax version:      ', bamojax.__version__)\n",
    "print('Jax default backend:  ', jax.default_backend())\n",
    "print('Jax devices:          ', jax.devices())\n",
    "\n",
    "SMALL_SIZE = 14\n",
    "MEDIUM_SIZE = 16\n",
    "LARGE_SIZE = 22\n",
    "\n",
    "plt.rc('font', size=SMALL_SIZE)          # controls default text sizes\n",
    "plt.rc('axes', titlesize=LARGE_SIZE)     # fontsize of the axes title\n",
    "plt.rc('axes', labelsize=MEDIUM_SIZE)    # fontsize of the x and y labels\n",
    "plt.rc('xtick', labelsize=SMALL_SIZE)    # fontsize of the tick labels\n",
    "plt.rc('ytick', labelsize=SMALL_SIZE)    # fontsize of the tick labels\n",
    "plt.rc('legend', fontsize=MEDIUM_SIZE)    # legend fontsize\n",
    "plt.rc('figure', titlesize=LARGE_SIZE)  # fontsize of the figure title"
   ]
  },
  {
   "cell_type": "code",
   "execution_count": 3,
   "metadata": {},
   "outputs": [
    {
     "name": "stdout",
     "output_type": "stream",
     "text": [
      "File downloaded successfully!\n",
      "File downloaded successfully!\n",
      "File downloaded successfully!\n"
     ]
    }
   ],
   "source": [
    "def download_to_disk(url, filepath):\n",
    "    response = requests.get(url)\n",
    "    if response.status_code == 200:\n",
    "        with open(filepath, 'wb') as file:\n",
    "            file.write(response.content)\n",
    "        print('File downloaded successfully!')\n",
    "    else:\n",
    "        print(f'Failed to download the file. Status code: {response.status_code}')\n",
    "\n",
    "#\n",
    "data_busemeyer_url = 'https://osf.io/download/5vws6/'  # DataBusemeyerNoNA.rdata on https://osf.io/f9cq4/; contains IGT data\n",
    "data_busemeyer_file = 'DataBusemeyerNoNA.rdata'\n",
    "\n",
    "data_steingroever_url = 'https://osf.io/download/bmnsv/'  # contains Steingroever's importance sampling marginal likelihoods\n",
    "data_steingroever_file = 'DataSteingroever.rdata'\n",
    "\n",
    "lml_url = 'https://osf.io/download/txnbs/' # ind_LogMargLik.txt on https://osf.io/f9cq4/; contains Gronau's bridge sampling estmates\n",
    "lml_file = 'ind_LogMargLik.txt'\n",
    "\n",
    "download_to_disk(data_busemeyer_url, data_busemeyer_file)\n",
    "download_to_disk(data_steingroever_url, data_steingroever_file)\n",
    "download_to_disk(lml_url, lml_file)"
   ]
  },
  {
   "cell_type": "code",
   "execution_count": null,
   "metadata": {},
   "outputs": [],
   "source": [
    "data_file = pr.read_r('DataBusemeyerNoNA.rdata')\n",
    "choices = jnp.asarray(data_file['choice'].to_numpy().astype(int)) - 1  # Python zero-indexing\n",
    "losses = jnp.asarray(data_file['lo'].to_numpy())\n",
    "wins = jnp.asarray(data_file['wi'].to_numpy())\n",
    "\n",
    "N, T = choices.shape\n",
    "K = 4"
   ]
  },
  {
   "cell_type": "code",
   "execution_count": null,
   "metadata": {},
   "outputs": [],
   "source": [
    "def ev_link_fn(w, a, c_raw):\n",
    "    c = 4*c_raw - 2.0\n",
    "    ev = jnp.zeros((K, ))\n",
    "\n",
    "    # construct logits/probs for Categorical\n",
    "\n",
    "EVModel = Model('Expectance valence model')\n",
    "w_node = EVModel.add_node('w', distribution=dx.Beta(alpha=1.0, beta=1.0))\n",
    "a_node = EVModel.add_node('a', distribution=dx.Beta(alpha=1.0, beta=1.0))\n",
    "c_raw_node = EVModel.add_node('c_raw', distribution=dx.Beta(alpha=1.0, beta=1.0))\n",
    "\n",
    "choice_node = EVModel.add_node('choices', distribution=dx.Categorical, link_fn=ev_link_fn)\n",
    "\n",
    "\n",
    "    #     def loglikelihood_fn_(state: GibbsState) -> Float:\n",
    "    #         position = getattr(state, 'position', state)\n",
    "    #         w = position['w']\n",
    "    #         a = position['a']\n",
    "    #         c = 4*position['c_raw'] - 2.0\n",
    "    #         ev = jnp.zeros((self.K, ))  # expected valence per deck of cards\n",
    "    #         loglik = dx.Categorical(probs=jnp.ones((self.K, ))).log_prob(value=self.choices[0])\n",
    "\n",
    "    #         def for_body(t, carry):\n",
    "    #             ev_, loglik_ = carry\n",
    "    #             theta = (0.1*(t+1))**c  \n",
    "    #             current_utility = (1-w) * self.wins[t] + w*self.loss[t]\n",
    "    #             ev_ = ev_.at[self.choices[t]].add(a * (current_utility - ev_[self.choices[t]]))\n",
    "    #             loglik_ += dx.Categorical(logits=theta * ev_).log_prob(value=self.choices[t+1])\n",
    "    #             return (ev_, loglik_)\n",
    "            \n",
    "    #         _, loglik = jax.lax.fori_loop(0, self.T - 1, for_body, (ev, loglik))\n",
    "            \n",
    "    #         return loglik\n",
    "        \n",
    "    #     #\n",
    "    #     return loglikelihood_fn_\n",
    "\n",
    "    # #\n",
    "\n"
   ]
  }
 ],
 "metadata": {
  "kernelspec": {
   "display_name": "uicsdev_v2",
   "language": "python",
   "name": "python3"
  },
  "language_info": {
   "codemirror_mode": {
    "name": "ipython",
    "version": 3
   },
   "file_extension": ".py",
   "mimetype": "text/x-python",
   "name": "python",
   "nbconvert_exporter": "python",
   "pygments_lexer": "ipython3",
   "version": "3.10.15"
  }
 },
 "nbformat": 4,
 "nbformat_minor": 2
}
