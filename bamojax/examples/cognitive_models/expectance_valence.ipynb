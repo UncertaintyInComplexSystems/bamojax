{
 "cells": [
  {
   "cell_type": "markdown",
   "metadata": {},
   "source": [
    "# Evidence estimation in a Bayesian cognitive model\n"
   ]
  },
  {
   "cell_type": "code",
   "execution_count": 1,
   "metadata": {},
   "outputs": [
    {
     "name": "stdout",
     "output_type": "stream",
     "text": [
      "Setting CUDA visible devices to [9]\n"
     ]
    }
   ],
   "source": [
    "%load_ext autoreload\n",
    "%autoreload 2\n",
    "\n",
    "import os\n",
    "\n",
    "# For JAX, we can use CPU (set SELECTED_DEVICE to empty (''), or one of the available GPUs)\n",
    "SELECTED_DEVICE = '9'\n",
    "print(f'Setting CUDA visible devices to [{SELECTED_DEVICE}]')\n",
    "os.environ['CUDA_VISIBLE_DEVICES'] = f'{SELECTED_DEVICE}'"
   ]
  },
  {
   "cell_type": "code",
   "execution_count": 2,
   "metadata": {},
   "outputs": [
    {
     "name": "stdout",
     "output_type": "stream",
     "text": [
      "Python version:        3.10.15 (main, Oct  3 2024, 07:27:34) [GCC 11.2.0]\n",
      "Jax version:           0.4.35\n",
      "BlackJax version:      1.2.4\n",
      "Distrax version:       0.1.5\n",
      "BaMoJax version:       0.0.1\n",
      "Jax default backend:   gpu\n",
      "Jax devices:           [CudaDevice(id=0)]\n"
     ]
    }
   ],
   "source": [
    "import matplotlib.pyplot as plt\n",
    "import matplotlib.patches as mpatches\n",
    "\n",
    "import jax\n",
    "jax.config.update(\"jax_enable_x64\", True)  # Do we need this here? -> it seems we do for the LML computations (otherwise NaNs get introduced), but not for performance\n",
    "\n",
    "import jax.random as jrnd\n",
    "import jax.numpy as jnp\n",
    "import distrax as dx\n",
    "import blackjax\n",
    "import pandas as pd\n",
    "import jax.scipy.special as jsp\n",
    "\n",
    "from tensorflow_probability.substrates import jax as tfp\n",
    "tfd = tfp.distributions\n",
    "tfb = tfp.bijectors\n",
    "import pyreadr as pr\n",
    "\n",
    "from distrax._src.distributions.distribution import Distribution\n",
    "\n",
    "import os\n",
    "import sys\n",
    "import requests\n",
    "\n",
    "from blackjax import normal_random_walk\n",
    "\n",
    "sys.path.append(os.path.abspath(os.path.join(os.getcwd(), '../../../')))\n",
    "\n",
    "import bamojax\n",
    "from bamojax.base import Node, Model\n",
    "from bamojax.sampling import gibbs_sampler, inference_loop, run_chain, smc_inference_loop\n",
    "\n",
    "print('Python version:       ', sys.version)\n",
    "print('Jax version:          ', jax.__version__)\n",
    "print('BlackJax version:     ', blackjax.__version__)\n",
    "print('Distrax version:      ', dx.__version__)\n",
    "print('BaMoJax version:      ', bamojax.__version__)\n",
    "print('Jax default backend:  ', jax.default_backend())\n",
    "print('Jax devices:          ', jax.devices())\n",
    "\n",
    "SMALL_SIZE = 14\n",
    "MEDIUM_SIZE = 16\n",
    "LARGE_SIZE = 22\n",
    "\n",
    "plt.rc('font', size=SMALL_SIZE)          # controls default text sizes\n",
    "plt.rc('axes', titlesize=LARGE_SIZE)     # fontsize of the axes title\n",
    "plt.rc('axes', labelsize=MEDIUM_SIZE)    # fontsize of the x and y labels\n",
    "plt.rc('xtick', labelsize=SMALL_SIZE)    # fontsize of the tick labels\n",
    "plt.rc('ytick', labelsize=SMALL_SIZE)    # fontsize of the tick labels\n",
    "plt.rc('legend', fontsize=MEDIUM_SIZE)    # legend fontsize\n",
    "plt.rc('figure', titlesize=LARGE_SIZE)  # fontsize of the figure title"
   ]
  },
  {
   "cell_type": "code",
   "execution_count": 3,
   "metadata": {},
   "outputs": [
    {
     "name": "stdout",
     "output_type": "stream",
     "text": [
      "File downloaded successfully!\n",
      "File downloaded successfully!\n",
      "File downloaded successfully!\n"
     ]
    }
   ],
   "source": [
    "def download_to_disk(url, filepath):\n",
    "    response = requests.get(url)\n",
    "    if response.status_code == 200:\n",
    "        with open(filepath, 'wb') as file:\n",
    "            file.write(response.content)\n",
    "        print('File downloaded successfully!')\n",
    "    else:\n",
    "        print(f'Failed to download the file. Status code: {response.status_code}')\n",
    "\n",
    "#\n",
    "data_busemeyer_url = 'https://osf.io/download/5vws6/'  # DataBusemeyerNoNA.rdata on https://osf.io/f9cq4/; contains IGT data\n",
    "data_busemeyer_file = 'DataBusemeyerNoNA.rdata'\n",
    "\n",
    "data_steingroever_url = 'https://osf.io/download/bmnsv/'  # contains Steingroever's importance sampling marginal likelihoods\n",
    "data_steingroever_file = 'DataSteingroever.rdata'\n",
    "\n",
    "lml_url = 'https://osf.io/download/txnbs/' # ind_LogMargLik.txt on https://osf.io/f9cq4/; contains Gronau's bridge sampling estmates\n",
    "lml_file = 'ind_LogMargLik.txt'\n",
    "\n",
    "download_to_disk(data_busemeyer_url, data_busemeyer_file)\n",
    "download_to_disk(data_steingroever_url, data_steingroever_file)\n",
    "download_to_disk(lml_url, lml_file)"
   ]
  },
  {
   "cell_type": "code",
   "execution_count": 4,
   "metadata": {},
   "outputs": [],
   "source": [
    "data_file = pr.read_r('DataBusemeyerNoNA.rdata')\n",
    "choices = jnp.asarray(data_file['choice'].to_numpy().astype(int)) - 1  # Python zero-indexing\n",
    "losses = jnp.asarray(data_file['lo'].to_numpy())\n",
    "wins = jnp.asarray(data_file['wi'].to_numpy())\n",
    "\n",
    "N, T = choices.shape\n",
    "K = 4"
   ]
  },
  {
   "cell_type": "code",
   "execution_count": 5,
   "metadata": {},
   "outputs": [
    {
     "name": "stdout",
     "output_type": "stream",
     "text": [
      "(30, 100)\n",
      "(30, 100)\n",
      "(30, 100)\n"
     ]
    }
   ],
   "source": [
    "print(wins.shape)\n",
    "print(losses.shape)\n",
    "print(choices.shape)"
   ]
  },
  {
   "cell_type": "markdown",
   "metadata": {},
   "source": [
    "Unrolling the likelihood over time seems very inefficient, but how can we add the contribution of an individual choice to `ev_` during the loop?"
   ]
  },
  {
   "cell_type": "code",
   "execution_count": 36,
   "metadata": {},
   "outputs": [
    {
     "name": "stdout",
     "output_type": "stream",
     "text": [
      "LML subject 0: -126.678533607858\n",
      "Acceptance rates a: 0.34\n",
      "Acceptance rates w: 0.04\n",
      "Acceptance rates c_raw: 0.13\n",
      "LML subject 1: -105.00576176906173\n",
      "Acceptance rates a: 0.099999994\n",
      "Acceptance rates w: 0.04\n",
      "Acceptance rates c_raw: 0.06\n",
      "LML subject 2: -115.59157787685521\n",
      "Acceptance rates a: 0.049999997\n",
      "Acceptance rates w: 0.06\n",
      "Acceptance rates c_raw: 0.14\n",
      "LML subject 3: -114.46374477291202\n",
      "Acceptance rates a: 0.14999999\n",
      "Acceptance rates w: 0.12\n",
      "Acceptance rates c_raw: 0.14\n",
      "LML subject 4: -105.6579978582115\n",
      "Acceptance rates a: 0.089999996\n",
      "Acceptance rates w: 0.08\n",
      "Acceptance rates c_raw: 0.11\n",
      "LML subject 5: -135.73854035893558\n",
      "Acceptance rates a: 0.39\n",
      "Acceptance rates w: 0.39999998\n",
      "Acceptance rates c_raw: 0.29999998\n",
      "LML subject 6: -134.27809000774008\n",
      "Acceptance rates a: 0.37\n",
      "Acceptance rates w: 0.39\n",
      "Acceptance rates c_raw: 0.34\n",
      "LML subject 7: -123.6594524991902\n",
      "Acceptance rates a: 0.14999999\n",
      "Acceptance rates w: 0.06\n",
      "Acceptance rates c_raw: 0.099999994\n",
      "LML subject 8: -137.62227411022198\n",
      "Acceptance rates a: 0.5\n",
      "Acceptance rates w: 0.39\n",
      "Acceptance rates c_raw: 0.13\n",
      "LML subject 9: -95.42182265079637\n",
      "Acceptance rates a: 0.06\n",
      "Acceptance rates w: 0.01\n",
      "Acceptance rates c_raw: 0.03\n",
      "LML subject 10: -133.293375522416\n",
      "Acceptance rates a: 0.35\n",
      "Acceptance rates w: 0.29\n",
      "Acceptance rates c_raw: 0.35\n",
      "LML subject 11: -136.28323965657972\n",
      "Acceptance rates a: 0.48999998\n",
      "Acceptance rates w: 0.29\n",
      "Acceptance rates c_raw: 0.22999999\n",
      "LML subject 12: -137.66692558676337\n",
      "Acceptance rates a: 0.41\n",
      "Acceptance rates w: 0.35999998\n",
      "Acceptance rates c_raw: 0.29999998\n",
      "LML subject 13: -132.9478008801335\n",
      "Acceptance rates a: 0.04\n",
      "Acceptance rates w: 0.08\n",
      "Acceptance rates c_raw: 0.11\n",
      "LML subject 14: -128.51947200030227\n",
      "Acceptance rates a: 0.26999998\n",
      "Acceptance rates w: 0.08\n",
      "Acceptance rates c_raw: 0.089999996\n",
      "LML subject 15: -133.78083555401705\n",
      "Acceptance rates a: 0.42999998\n",
      "Acceptance rates w: 0.08\n",
      "Acceptance rates c_raw: 0.17999999\n",
      "LML subject 16: -134.07778942368364\n",
      "Acceptance rates a: 0.29\n",
      "Acceptance rates w: 0.22\n",
      "Acceptance rates c_raw: 0.19\n",
      "LML subject 17: -110.91663484216583\n",
      "Acceptance rates a: 0.07\n",
      "Acceptance rates w: 0.07\n",
      "Acceptance rates c_raw: 0.049999997\n",
      "LML subject 18: -107.65709618729457\n",
      "Acceptance rates a: 0.04\n",
      "Acceptance rates w: 0.06\n",
      "Acceptance rates c_raw: 0.099999994\n",
      "LML subject 19: -137.79845722415715\n",
      "Acceptance rates a: 0.35999998\n",
      "Acceptance rates w: 0.35\n",
      "Acceptance rates c_raw: 0.16\n",
      "LML subject 20: -137.38790410022787\n",
      "Acceptance rates a: 0.52\n",
      "Acceptance rates w: 0.35\n",
      "Acceptance rates c_raw: 0.24\n",
      "LML subject 21: -106.86967123464972\n",
      "Acceptance rates a: 0.049999997\n",
      "Acceptance rates w: 0.02\n",
      "Acceptance rates c_raw: 0.04\n",
      "LML subject 22: -107.80895717463935\n",
      "Acceptance rates a: 0.06\n",
      "Acceptance rates w: 0.04\n",
      "Acceptance rates c_raw: 0.11\n",
      "LML subject 23: -135.9403714367378\n",
      "Acceptance rates a: 0.44\n",
      "Acceptance rates w: 0.32\n",
      "Acceptance rates c_raw: 0.26999998\n",
      "LML subject 24: -132.38125816454954\n",
      "Acceptance rates a: 0.34\n",
      "Acceptance rates w: 0.32999998\n",
      "Acceptance rates c_raw: 0.28\n",
      "LML subject 25: -117.11548437449042\n",
      "Acceptance rates a: 0.07\n",
      "Acceptance rates w: 0.0\n",
      "Acceptance rates c_raw: 0.03\n",
      "LML subject 26: -117.8424562000888\n",
      "Acceptance rates a: 0.17999999\n",
      "Acceptance rates w: 0.01\n",
      "Acceptance rates c_raw: 0.089999996\n",
      "LML subject 27: -138.09620741133557\n",
      "Acceptance rates a: 0.42999998\n",
      "Acceptance rates w: 0.32\n",
      "Acceptance rates c_raw: 0.29999998\n",
      "LML subject 28: -132.69037310451534\n",
      "Acceptance rates a: 0.5\n",
      "Acceptance rates w: 0.45999998\n",
      "Acceptance rates c_raw: 0.22\n",
      "LML subject 29: -126.48226258377068\n",
      "Acceptance rates a: 0.14999999\n",
      "Acceptance rates w: 0.08\n",
      "Acceptance rates c_raw: 0.11\n"
     ]
    }
   ],
   "source": [
    "key = jrnd.PRNGKey(42)\n",
    "\n",
    "for subject in range(N):\n",
    "\n",
    "    def ev_link_fn(w, a, c_raw, obs):\n",
    "        c = 4*c_raw - 2.0\n",
    "        ev = jnp.zeros((K, ))\n",
    "        logits = jnp.zeros((K, T))\n",
    "\n",
    "        def for_body_fn(t, carry):\n",
    "            ev_, logits_, logits_all = carry\n",
    "            theta = (0.1*(t+1))**c\n",
    "            current_utility = (1-w) * wins[subject, t] + w * losses[subject, t]\n",
    "            ev_ = ev_.at[obs[t]].add(a * (current_utility - ev_[obs[t]]))\n",
    "            logits_ = theta * ev_\n",
    "            logits_all = logits_all.at[:, t].set(logits_)\n",
    "            return (ev_, logits_, logits_all)\n",
    "\n",
    "        #\n",
    "        initial_logits = jax.nn.sigmoid(1/K*jnp.ones((K, )))\n",
    "        _, _, logits = jax.lax.fori_loop(0, T-1, for_body_fn, (ev, initial_logits, logits) )\n",
    "        return dict(logits=logits.T)\n",
    "\n",
    "    #\n",
    "\n",
    "    EVModel = Model('Expectance valence model')\n",
    "    w_node = EVModel.add_node('w', distribution=dx.Beta(alpha=1.0, beta=1.0))\n",
    "    a_node = EVModel.add_node('a', distribution=dx.Beta(alpha=1.0, beta=1.0))\n",
    "    c_raw_node = EVModel.add_node('c_raw', distribution=dx.Beta(alpha=1.0, beta=1.0))\n",
    "\n",
    "    choice_node = EVModel.add_node('choices', observations=choices[subject, :], distribution=dx.Categorical, link_fn=ev_link_fn, parents=dict(w=w_node, a=a_node, c_raw=c_raw_node, obs=choices[subject,:]))\n",
    "\n",
    "    \n",
    "\n",
    "    num_mcmc_steps = 100\n",
    "    num_particles = 1_000\n",
    "    num_chains = 1\n",
    "\n",
    "    step_fns = dict(a=normal_random_walk, w=normal_random_walk, c_raw=normal_random_walk)\n",
    "    step_fn_params = dict(a=dict(sigma=0.5), w=dict(sigma=0.5), c_raw=dict(sigma=0.5))\n",
    "\n",
    "    gibbs = gibbs_sampler(EVModel, step_fns=step_fns, step_fn_params=step_fn_params)\n",
    "\n",
    "    key, subkey = jrnd.split(key)\n",
    "    final_state, lml, n_iter, final_info = smc_inference_loop(subkey, model=EVModel, kernel=gibbs, num_particles=num_particles, num_mcmc_steps=num_mcmc_steps, num_chains=num_chains)\n",
    "\n",
    "    print(f'LML subject {subject}:', lml)\n",
    "\n",
    "    for c in range(num_chains):\n",
    "        print('Acceptance rates a:', jnp.mean(final_info.update_info['a'].is_accepted[c, ...]))\n",
    "        print('Acceptance rates w:', jnp.mean(final_info.update_info['w'].is_accepted[c, ...]))\n",
    "        print('Acceptance rates c_raw:', jnp.mean(final_info.update_info['c_raw'].is_accepted[c, ...]))\n"
   ]
  },
  {
   "cell_type": "markdown",
   "metadata": {},
   "source": [
    "The acceptance rates are quite diverging. "
   ]
  },
  {
   "cell_type": "code",
   "execution_count": 31,
   "metadata": {},
   "outputs": [
    {
     "name": "stdout",
     "output_type": "stream",
     "text": [
      "(5, 4)\n",
      "-6.931471805599453\n"
     ]
    }
   ],
   "source": [
    "K = 4\n",
    "\n",
    "probs = jnp.ones((K, 5)).T\n",
    "\n",
    "x = jnp.array([1, 0, 3, 2, 0])\n",
    "print(probs.shape)\n",
    "\n",
    "print(jnp.sum(dx.Categorical(probs=probs).log_prob(value=x)))"
   ]
  }
 ],
 "metadata": {
  "kernelspec": {
   "display_name": "uicsdev_v2",
   "language": "python",
   "name": "python3"
  },
  "language_info": {
   "codemirror_mode": {
    "name": "ipython",
    "version": 3
   },
   "file_extension": ".py",
   "mimetype": "text/x-python",
   "name": "python",
   "nbconvert_exporter": "python",
   "pygments_lexer": "ipython3",
   "version": "3.10.15"
  }
 },
 "nbformat": 4,
 "nbformat_minor": 2
}
