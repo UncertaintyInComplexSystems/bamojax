{
 "cells": [
  {
   "cell_type": "markdown",
   "metadata": {},
   "source": [
    "# Evidence estimation in a Bayesian cognitive model\n"
   ]
  },
  {
   "cell_type": "code",
   "execution_count": 1,
   "metadata": {},
   "outputs": [
    {
     "name": "stdout",
     "output_type": "stream",
     "text": [
      "Setting CUDA visible devices to [7]\n"
     ]
    }
   ],
   "source": [
    "%load_ext autoreload\n",
    "%autoreload 2\n",
    "\n",
    "import os\n",
    "\n",
    "# For JAX, we can use CPU (set SELECTED_DEVICE to empty (''), or one of the available GPUs)\n",
    "SELECTED_DEVICE = '7'\n",
    "print(f'Setting CUDA visible devices to [{SELECTED_DEVICE}]')\n",
    "os.environ['CUDA_VISIBLE_DEVICES'] = f'{SELECTED_DEVICE}'"
   ]
  },
  {
   "cell_type": "code",
   "execution_count": 2,
   "metadata": {},
   "outputs": [
    {
     "name": "stdout",
     "output_type": "stream",
     "text": [
      "Python version:        3.10.15 (main, Oct  3 2024, 07:27:34) [GCC 11.2.0]\n",
      "Jax version:           0.4.35\n",
      "BlackJax version:      1.2.4\n",
      "Distrax version:       0.1.5\n",
      "BaMoJax version:       0.0.1\n",
      "Jax default backend:   gpu\n",
      "Jax devices:           [CudaDevice(id=0)]\n"
     ]
    }
   ],
   "source": [
    "import matplotlib.pyplot as plt\n",
    "import matplotlib.patches as mpatches\n",
    "\n",
    "import jax\n",
    "jax.config.update(\"jax_enable_x64\", True)  # Do we need this here? -> it seems we do for the LML computations (otherwise NaNs get introduced), but not for performance\n",
    "\n",
    "import jax.random as jrnd\n",
    "import jax.numpy as jnp\n",
    "import distrax as dx\n",
    "import blackjax\n",
    "import pandas as pd\n",
    "import jax.scipy.special as jsp\n",
    "\n",
    "from tensorflow_probability.substrates import jax as tfp\n",
    "tfd = tfp.distributions\n",
    "tfb = tfp.bijectors\n",
    "import pyreadr as pr\n",
    "\n",
    "from distrax._src.distributions.distribution import Distribution\n",
    "\n",
    "import os\n",
    "import sys\n",
    "import requests\n",
    "\n",
    "from blackjax import normal_random_walk\n",
    "\n",
    "sys.path.append(os.path.abspath(os.path.join(os.getcwd(), '../../../')))\n",
    "\n",
    "import bamojax\n",
    "from bamojax.base import Node, Model\n",
    "from bamojax.sampling import gibbs_sampler, smc_inference_loop, mcmc_sampler\n",
    "\n",
    "print('Python version:       ', sys.version)\n",
    "print('Jax version:          ', jax.__version__)\n",
    "print('BlackJax version:     ', blackjax.__version__)\n",
    "print('Distrax version:      ', dx.__version__)\n",
    "print('BaMoJax version:      ', bamojax.__version__)\n",
    "print('Jax default backend:  ', jax.default_backend())\n",
    "print('Jax devices:          ', jax.devices())\n",
    "\n",
    "SMALL_SIZE = 14\n",
    "MEDIUM_SIZE = 16\n",
    "LARGE_SIZE = 22\n",
    "\n",
    "plt.rc('font', size=SMALL_SIZE)          # controls default text sizes\n",
    "plt.rc('axes', titlesize=LARGE_SIZE)     # fontsize of the axes title\n",
    "plt.rc('axes', labelsize=MEDIUM_SIZE)    # fontsize of the x and y labels\n",
    "plt.rc('xtick', labelsize=SMALL_SIZE)    # fontsize of the tick labels\n",
    "plt.rc('ytick', labelsize=SMALL_SIZE)    # fontsize of the tick labels\n",
    "plt.rc('legend', fontsize=MEDIUM_SIZE)    # legend fontsize\n",
    "plt.rc('figure', titlesize=LARGE_SIZE)  # fontsize of the figure title"
   ]
  },
  {
   "cell_type": "code",
   "execution_count": 3,
   "metadata": {},
   "outputs": [
    {
     "name": "stdout",
     "output_type": "stream",
     "text": [
      "File downloaded successfully!\n",
      "File downloaded successfully!\n",
      "File downloaded successfully!\n"
     ]
    }
   ],
   "source": [
    "def download_to_disk(url, filepath):\n",
    "    response = requests.get(url)\n",
    "    if response.status_code == 200:\n",
    "        with open(filepath, 'wb') as file:\n",
    "            file.write(response.content)\n",
    "        print('File downloaded successfully!')\n",
    "    else:\n",
    "        print(f'Failed to download the file. Status code: {response.status_code}')\n",
    "\n",
    "#\n",
    "data_busemeyer_url = 'https://osf.io/download/5vws6/'  # DataBusemeyerNoNA.rdata on https://osf.io/f9cq4/; contains IGT data\n",
    "data_busemeyer_file = 'DataBusemeyerNoNA.rdata'\n",
    "\n",
    "data_steingroever_url = 'https://osf.io/download/bmnsv/'  # contains Steingroever's importance sampling marginal likelihoods\n",
    "data_steingroever_file = 'DataSteingroever.rdata'\n",
    "\n",
    "lml_url = 'https://osf.io/download/txnbs/' # ind_LogMargLik.txt on https://osf.io/f9cq4/; contains Gronau's bridge sampling estmates\n",
    "lml_file = 'ind_LogMargLik.txt'\n",
    "\n",
    "download_to_disk(data_busemeyer_url, data_busemeyer_file)\n",
    "download_to_disk(data_steingroever_url, data_steingroever_file)\n",
    "download_to_disk(lml_url, lml_file)"
   ]
  },
  {
   "cell_type": "code",
   "execution_count": 4,
   "metadata": {},
   "outputs": [
    {
     "name": "stdout",
     "output_type": "stream",
     "text": [
      "(30, 100)\n",
      "(30, 100)\n",
      "(30, 100)\n"
     ]
    }
   ],
   "source": [
    "data_file = pr.read_r('DataBusemeyerNoNA.rdata')\n",
    "choices = jnp.asarray(data_file['choice'].to_numpy().astype(int)) - 1  # Python zero-indexing\n",
    "losses = jnp.asarray(data_file['lo'].to_numpy())\n",
    "wins = jnp.asarray(data_file['wi'].to_numpy())\n",
    "\n",
    "N, T = choices.shape\n",
    "K = 4\n",
    "\n",
    "print(wins.shape)\n",
    "print(losses.shape)\n",
    "print(choices.shape)"
   ]
  },
  {
   "cell_type": "markdown",
   "metadata": {},
   "source": [
    "Discrepancy with LML\n",
    "\n",
    "We are not matching this correctly. Note that the paper probably starts at $t=1$"
   ]
  },
  {
   "cell_type": "code",
   "execution_count": 5,
   "metadata": {},
   "outputs": [
    {
     "name": "stdout",
     "output_type": "stream",
     "text": [
      "LML: -89.28026531672671\n"
     ]
    }
   ],
   "source": [
    "def ev_link_fn(w, a, c_raw, choices, wins, losses):\n",
    "    c = 4*c_raw - 2.0\n",
    "    ev = jnp.zeros((K, ))\n",
    "    logits = jnp.ones((T, K))  # softmax of uniform is = [1/K, 1/K, ...]\n",
    "\n",
    "    def for_body(t, carry):\n",
    "        ev_, logits_ = carry\n",
    "        theta = (0.1*(t+1))**c  \n",
    "        current_utility = (1-w) * wins[t] + w*losses[t]\n",
    "        k = choices[t]\n",
    "        ev_ = ev_.at[k].add(a * (current_utility - ev_[k]))\n",
    "        logits_ = logits_.at[t + 1, :].set(theta * ev_)\n",
    "        return (ev_, logits_)\n",
    "    \n",
    "    #\n",
    "    _, logits = jax.lax.fori_loop(0, T - 1, for_body, (ev, logits))\n",
    "\n",
    "    return dict(logits=logits)\n",
    "\n",
    "#\n",
    "def make_ev_model(subject):\n",
    "    EVModel = Model(f'Expectance valence model, subject {subject}')\n",
    "    w_node = EVModel.add_node('w', distribution=dx.Beta(alpha=1.0, beta=1.0))\n",
    "    a_node = EVModel.add_node('a', distribution=dx.Beta(alpha=1.0, beta=1.0))\n",
    "    c_raw_node = EVModel.add_node('c_raw', distribution=dx.Beta(alpha=1.0, beta=1.0))\n",
    "    wins_node = EVModel.add_node('wins', observations=wins[subject, :])\n",
    "    loss_node = EVModel.add_node('losses', observations=losses[subject, :])\n",
    "\n",
    "    # Note that in RL examples we often have a form of autoregression. Here, `choices` are observed, but also feed back into the model.\n",
    "    choice_node = EVModel.add_node('choices', \n",
    "                                observations=choices[subject, :], \n",
    "                                distribution=dx.Categorical, \n",
    "                                link_fn=ev_link_fn, \n",
    "                                parents=dict(w=w_node, \n",
    "                                                a=a_node, \n",
    "                                                c_raw=c_raw_node, \n",
    "                                                choices=choices[subject,:], \n",
    "                                                wins=wins_node, \n",
    "                                                losses=loss_node))\n",
    "    return EVModel\n",
    "\n",
    "#\n",
    "\n",
    "EVModel = make_ev_model(subject=9)\n",
    "\n",
    "num_mcmc_steps = 100\n",
    "num_particles = 1_000\n",
    "num_chains = 1\n",
    "\n",
    "key = jrnd.PRNGKey(1234)\n",
    "key, subkey = jrnd.split(key)\n",
    "\n",
    "# step_fns = dict(a=normal_random_walk, w=normal_random_walk, c_raw=normal_random_walk)\n",
    "# step_fn_params = dict(a=dict(sigma=0.01), w=dict(sigma=0.01), c_raw=dict(sigma=0.01))\n",
    "\n",
    "# gibbs = gibbs_sampler(EVModel, step_fns=step_fns, step_fn_params=step_fn_params)\n",
    "# final_state, lml, n_iter, final_info = smc_inference_loop(subkey, model=EVModel, kernel=gibbs, num_particles=num_particles, num_mcmc_steps=num_mcmc_steps, num_chains=num_chains)\n",
    "\n",
    "# print(f'LML subject {subject}:', lml)\n",
    "\n",
    "mcmc_params = dict(sigma=0.01*jnp.eye(EVModel.get_model_size()))\n",
    "mcmc = mcmc_sampler(EVModel, mcmc_kernel=blackjax.normal_random_walk, mcmc_parameters=mcmc_params)\n",
    "\n",
    "final_state, lml, n_iter, final_info = smc_inference_loop(subkey, model=EVModel, kernel=mcmc, num_particles=num_particles, num_mcmc_steps=num_mcmc_steps, num_chains=num_chains)\n",
    "\n",
    "print(f'LML:', lml)\n",
    "\n",
    "# for c in range(num_chains):\n",
    "#     print('Acceptance rates a:', jnp.mean(final_info.update_info['a'].is_accepted[c, ...]))\n",
    "#     print('Acceptance rates w:', jnp.mean(final_info.update_info['w'].is_accepted[c, ...]))\n",
    "#     print('Acceptance rates c_raw:', jnp.mean(final_info.update_info['c_raw'].is_accepted[c, ...]))"
   ]
  },
  {
   "cell_type": "code",
   "execution_count": 6,
   "metadata": {},
   "outputs": [
    {
     "name": "stdout",
     "output_type": "stream",
     "text": [
      "[-130.01893378 -104.11905712 -115.13467943 -117.61339503 -104.52596672\n",
      " -136.55310227 -137.75298581 -129.76741232 -141.55604114  -89.28026532\n",
      " -133.26520477 -140.63912131 -140.38019205 -132.99984229 -132.89454878\n",
      " -137.02538724 -135.93497732 -110.26131526 -106.69592142 -141.50792994\n",
      " -140.87676037 -110.04635837 -118.79022695 -138.47603364 -131.42617095\n",
      " -122.26875281 -124.9700379  -140.86963756 -137.96629935 -128.48460011]\n"
     ]
    }
   ],
   "source": [
    "def wrapper(subject):\n",
    "    evmodel = make_ev_model(subject=subject)\n",
    "    mcmc_params = dict(sigma=stepsize*jnp.eye(evmodel.get_model_size()))\n",
    "    mcmc = mcmc_sampler(evmodel, mcmc_kernel=blackjax.normal_random_walk, mcmc_parameters=mcmc_params)\n",
    "    _, lml, _, _ = smc_inference_loop(subkey, model=evmodel, kernel=mcmc, num_particles=num_particles, num_mcmc_steps=num_mcmc_steps, num_chains=num_chains)\n",
    "    return lml\n",
    "\n",
    "#\n",
    "num_chains = 1\n",
    "num_mcmc_steps = 100\n",
    "num_particles = 1000\n",
    "stepsize = 0.01\n",
    "\n",
    "subjects = jnp.arange(N)\n",
    "lml_scores = jax.vmap(wrapper)(subjects)\n",
    "print(lml_scores)"
   ]
  },
  {
   "cell_type": "code",
   "execution_count": 7,
   "metadata": {},
   "outputs": [
    {
     "name": "stdout",
     "output_type": "stream",
     "text": [
      "Correlation between SMC and Importance sampling is 1.000\n",
      "Correlation between SMC and Bridge sampling is 1.000\n"
     ]
    },
    {
     "data": {
      "image/png": "[encoded data removed]",
      "text/plain": [
       "<Figure size 1200x300 with 2 Axes>"
      ]
     },
     "metadata": {},
     "output_type": "display_data"
    }
   ],
   "source": [
    "from pathlib import Path\n",
    "\n",
    "lims = [-145, -85]\n",
    "bs_lmls_file = open(f'ind_LogMargLik.txt')\n",
    "lines = bs_lmls_file.readlines()\n",
    "bs_lmls = jnp.array([float(line.split()[1]) for line in lines[1:]])\n",
    "\n",
    "is_lmls_file = pr.read_r(os.path.join(Path(os.getcwd()).parents[0], 'cognitive_models/DataSteingroever.rdata'))\n",
    "is_lmls = jnp.squeeze(jnp.log(pr.read_r(f'/scratch/big/home/maxhin/Documents/Code/SMC tutorial/EV/data/margLike_SteingroeverEtAl2016_importance_sampling.Rdata')['marg.like'].to_numpy()))\n",
    "\n",
    "baselines = [is_lmls, bs_lmls]\n",
    "\n",
    "baseline_names = ['Importance sampling', 'Bridge sampling']\n",
    "\n",
    "_, axes = plt.subplots(nrows=1, ncols=2, sharex=True, sharey=True, constrained_layout=True, figsize=(12, 3))\n",
    "for i, (baseline, name, ax) in enumerate(zip(baselines, baseline_names, axes)):\n",
    "    print(f'Correlation between SMC and {name} is {jnp.corrcoef(lml_scores, baseline)[0, 1]:0.3f}')\n",
    "    ax.scatter(lml_scores, baseline, c='lightcoral', edgecolors='k', s=64, zorder=10)\n",
    "    ax.plot(lims, lims, ls='--', c='k', lw=1, zorder=5)\n",
    "    ax.set_xlabel('Sequential Monte Carlo')\n",
    "    ax.set_xlim(lims)\n",
    "    ax.set_ylim(lims)\n",
    "    ax.set_ylabel(name)"
   ]
  }
 ],
 "metadata": {
  "kernelspec": {
   "display_name": "uicsdev_v2",
   "language": "python",
   "name": "python3"
  },
  "language_info": {
   "codemirror_mode": {
    "name": "ipython",
    "version": 3
   },
   "file_extension": ".py",
   "mimetype": "text/x-python",
   "name": "python",
   "nbconvert_exporter": "python",
   "pygments_lexer": "ipython3",
   "version": "3.10.15"
  }
 },
 "nbformat": 4,
 "nbformat_minor": 2
}
